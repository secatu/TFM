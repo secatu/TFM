{
 "cells": [
  {
   "cell_type": "markdown",
   "id": "7e989bc3",
   "metadata": {
    "id": "7e989bc3"
   },
   "source": [
    "## Scrapping coches.net"
   ]
  },
  {
   "cell_type": "code",
   "execution_count": null,
   "id": "10aefd16",
   "metadata": {
    "id": "10aefd16"
   },
   "outputs": [],
   "source": [
    "import requests\n",
    "import json\n",
    "import pandas as pd"
   ]
  },
  {
   "cell_type": "markdown",
   "id": "8167c454",
   "metadata": {
    "id": "8167c454"
   },
   "source": [
    "La función all_keys_exists comprueba que cuando se accede a la url de un anuncio, ese anuncio contenga todos los campos que se muestran en key_list1 y key_list2. De esta forma si algún anuncio no tiene uno de estos campos no lo incluyo"
   ]
  },
  {
   "cell_type": "code",
   "execution_count": null,
   "id": "a91a47df",
   "metadata": {
    "id": "a91a47df"
   },
   "outputs": [],
   "source": [
    "def all_keys_exists(car_data1, car_data2):\n",
    "    key_list1 = [\"id\", \"cubicCapacity\", \"mainProvince\", \"drivenWheelsId\"]\n",
    "    key_list2 = [\"brand\", \"model\", \"km\", \"power\", \"year\", \"fuel_types_id\", \"transmission\",\n",
    "                 \"colors\", \"body_types\", \"doors\", \"seats\", \"seller_type\", \"price\"]\n",
    "    \n",
    "    check1 = all(item in car_data1 for item in key_list1)\n",
    "    check2 = all(item in car_data2 for item in key_list2)\n",
    "\n",
    "    if check1 is True and check2 is True:\n",
    "        return True\n",
    "    else:\n",
    "        return False"
   ]
  },
  {
   "cell_type": "markdown",
   "id": "e9a5e598",
   "metadata": {
    "id": "e9a5e598"
   },
   "source": [
    "El scrapping lo hago realizando peticiones directamente a la API de coches.net ya que de esta forma obtengo más información que si solamente realizara el scrapping buscando los campos en la web. La API no devuelve todos los campos que están presentes en un anuncio (cuando se hace click a un resultado) pero si devuelve la dirección URL de los anuncios, por tanto por cada resultado devuelto de la API, accedo a la url del anuncio para obtener el resto de campos"
   ]
  },
  {
   "cell_type": "code",
   "execution_count": null,
   "id": "edca5a05",
   "metadata": {
    "colab": {
     "base_uri": "https://localhost:8080/",
     "height": 1000
    },
    "id": "edca5a05",
    "outputId": "4bc51f6e-321a-4ce0-8b70-00b6c382f669",
    "scrolled": false
   },
   "outputs": [],
   "source": [
    "headers = {\n",
    "    'authority': 'web.gw.coches.net',\n",
    "    'accept': 'application/json, text/plain, */*',\n",
    "    'accept-language': 'es-ES,es;q=0.9,en;q=0.8',\n",
    "    'content-type': 'application/json',\n",
    "    'origin': 'https://www.coches.net',\n",
    "    'referer': 'https://www.coches.net/',\n",
    "    'sec-ch-ua': '\"Google Chrome\";v=\"113\", \"Chromium\";v=\"113\", \"Not-A.Brand\";v=\"24\"',\n",
    "    'sec-ch-ua-mobile': '?0',\n",
    "    'sec-ch-ua-platform': '\"macOS\"',\n",
    "    'sec-fetch-dest': 'empty',\n",
    "    'sec-fetch-mode': 'cors',\n",
    "    'sec-fetch-site': 'same-site',\n",
    "    'user-agent': 'Mozilla/5.0 (Macintosh; Intel Mac OS X 10_15_7) AppleWebKit/537.36 (KHTML, like Gecko) Chrome/113.0.0.0 Safari/537.36',\n",
    "    'x-adevinta-amcvid': '57456795200337613064110380547604165577',\n",
    "    'x-adevinta-channel': 'web-desktop',\n",
    "    'x-adevinta-euconsent-v2': 'CPpg0xMPr4NVqCBAtAESDECoAP_AAP_AAAiQJbtV_H__bX9v8f7_6ft0eY1f9_r77uQzDhfNs-4F3L_W_LwX_2E7NF36tq4KmR4Eu3LBIUNtHNnUTVmxaokVrzHsak2cpTNKJ-BkkHMRe2dYGF5um5tjeQKZ5_p_d3f52T_9_dv-39z33913v3dd_-_1-Pjde5_9H_v_fRfb-_Ib9_7-_8v8_9_rk2_eX__________-___4JbtV_H__bX9v8f7_6ft0eY1f9_r77uQzDhfNs-4F3L_W_LwX_2E7NF36tq4KmR4Eu3LBIUNtHNnUTVmxaokVrzHsak2cpTNKJ-BkkHMRe2dYGF5um5tjeQKZ5_p_d3f52T_9_dv-39z33913v3dd_-_1-Pjde5_9H_v_fRfb-_Ib9_7-_8v8_9_rk2_eX__________-___4AAA',\n",
    "    'x-adevinta-session-id': '94e77f33-cada-4b1f-8c39-3fb1f948261b',\n",
    "    'x-schibsted-tenant': 'coches',\n",
    "}\n",
    "\n",
    "\n",
    "\n",
    "#Listado de json con todos los datos de cada coche\n",
    "final_car_data = []\n",
    "\n",
    "#Algunas campos son numéricos, en el dataset quiero que se guarden con la variable para poder estudiarlos despues\n",
    "combustible = {'1': 'diesel', '2': 'gasolina', '3':'electrico', '4': 'hibrido', '5': 'hibrido enchufable'}\n",
    "driven_wheels = {1: 'total', 3: 'delantera', 4:'trasera'}\n",
    "\n",
    "#Modificar rango dependiendo de cuantos datos se quieran obtener\n",
    "for i in range(1,10):\n",
    "    json_data = {\n",
    "        'pagination': {\n",
    "            'page': i,\n",
    "            'size': 100,\n",
    "        },\n",
    "        'sort': {\n",
    "            'order': 'desc','term': 'relevance',\n",
    "        },\n",
    "        'filters': {\n",
    "            'isFinanced': False,\n",
    "            'price': {'from': None,'to': None,\n",
    "            },\n",
    "            'bodyTypeIds': [],\n",
    "            'categories': {'category1Ids': [2500,],\n",
    "            },\n",
    "            'contractId': 0,\n",
    "            'drivenWheelsIds': [],\n",
    "            'environmentalLabels': [],\n",
    "            'equipments': [],\n",
    "            'fuelTypeIds': [],\n",
    "            'hasPhoto': None,\n",
    "            'hasWarranty': None,\n",
    "            'hp': {'from': None,'to': None,\n",
    "            },\n",
    "            'isCertified': False,\n",
    "            'km': {'from': None,'to': None,\n",
    "            },\n",
    "            'luggageCapacity': {'from': None,'to': None,\n",
    "            },\n",
    "            'onlyPeninsula': False,\n",
    "            'offerTypeIds': [0,2,3,4,5,],\n",
    "            'provinceIds': [],\n",
    "            'sellerTypeId': 0,\n",
    "            'transmissionTypeId': 0,\n",
    "            'vehicles': [\n",
    "                {\n",
    "                    'make': 'TOYOTA','makeId': 46,'model': '','modelId': 0,\n",
    "                },\n",
    "            ],\n",
    "            'year': {'from': None,'to': None,\n",
    "            },\n",
    "        },\n",
    "    }\n",
    "    response = requests.post('https://ms-mt--api-web.spain.advgo.net/search/listing', headers=headers, json=json_data)\n",
    "    datos = response.content\n",
    "    datos = json.loads(datos)\n",
    "    car_data = datos[\"items\"]\n",
    "    \n",
    "    result = []    \n",
    "\n",
    "    for i, datos in enumerate(car_data):\n",
    "        #Obtener url del anuncio específico\n",
    "        url = datos[\"url\"]\n",
    "        full_url = 'https://www.coches.net' + url\n",
    "\n",
    "        response = requests.get(full_url, headers=headers)\n",
    "        codigo_pagina = str(response.content).replace('\\\\', '')\n",
    "\n",
    "        #print(full_url)\n",
    "\n",
    "        if not 'Ups!' in codigo_pagina:\n",
    "            #Me quedo solo con las cadenas que corresponden al json que me interesa\n",
    "            sub1 = '\"page_category_level1\":\"coches\"'\n",
    "            idx1 = codigo_pagina.index(sub1)\n",
    "            sub2 = ',\"reset\":'\n",
    "            idx2 = codigo_pagina.index(sub2)\n",
    "\n",
    "            json_data = codigo_pagina[idx1 + len(sub1) + 1: idx2]\n",
    "\n",
    "            json_data = '{' + json_data\n",
    "            final_json = json.loads(json_data)\n",
    "            \n",
    "            #Comprobar que exitan todas las keys (hay algún anuncio (pocos) que le faltan algunas, por tanto lo descarto)\n",
    "            if(all_keys_exists(datos, final_json)):\n",
    "\n",
    "                #Hay algunos campos que hay que filtrarlos\n",
    "                transmision = final_json[\"transmission\"].replace('common.transmission_', '')\n",
    "                color = final_json[\"colors\"].replace('common.color_', '')\n",
    "                \n",
    "                row = [datos[\"id\"], final_json[\"brand\"], final_json[\"model\"], final_json[\"km\"], datos[\"cubicCapacity\"], final_json[\"power\"], \n",
    "                       final_json[\"year\"], combustible[final_json[\"fuel_types_id\"]], datos[\"mainProvince\"], \n",
    "                       transmision, driven_wheels[datos[\"drivenWheelsId\"]], final_json[\"body_types\"], final_json[\"doors\"], color, final_json[\"seats\"], \n",
    "                       final_json[\"seller_type\"], final_json[\"price\"], full_url]\n",
    "\n",
    "                result.append(row)\n",
    "                \n",
    "    final_car_data = final_car_data + result\n",
    "\n",
    "df = pd.DataFrame(final_car_data, columns=['id', 'Marca', 'Modelo', 'Km', 'Cilindrada', 'Caballos', 'Anio', \n",
    "                                           'Combustible', 'Provincia', 'Transmision', 'Traccion', 'Tipo', \n",
    "                                           'Puertas', 'Color', 'Asientos', 'Tipo de vendedor', 'Precio', 'Url'])\n",
    "df"
   ]
  },
  {
   "cell_type": "code",
   "execution_count": null,
   "id": "18f38f85",
   "metadata": {
    "id": "18f38f85"
   },
   "outputs": [],
   "source": [
    "#Guardar dataframe como csv\n",
    "df.to_csv(\"car_data.csv\", sep=\";\", index=False)"
   ]
  }
 ],
 "metadata": {
  "colab": {
   "provenance": []
  },
  "kernelspec": {
   "display_name": "Python 3 (ipykernel)",
   "language": "python",
   "name": "python3"
  },
  "language_info": {
   "codemirror_mode": {
    "name": "ipython",
    "version": 3
   },
   "file_extension": ".py",
   "mimetype": "text/x-python",
   "name": "python",
   "nbconvert_exporter": "python",
   "pygments_lexer": "ipython3",
   "version": "3.9.13"
  }
 },
 "nbformat": 4,
 "nbformat_minor": 5
}
