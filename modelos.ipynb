{
  "cells": [
    {
      "cell_type": "code",
      "execution_count": null,
      "id": "9af97b9d",
      "metadata": {
        "id": "9af97b9d"
      },
      "outputs": [],
      "source": [
        "from sklearn.model_selection import train_test_split\n",
        "from sklearn import metrics\n",
        "import matplotlib.pyplot as plt\n",
        "from sklearn import preprocessing\n",
        "from sklearn.preprocessing import StandardScaler\n",
        "from math import sqrt\n",
        "from sklearn import tree\n",
        "from sklearn.tree import DecisionTreeRegressor\n",
        "from sklearn.linear_model import Ridge, Lasso, BayesianRidge, LinearRegression\n",
        "from sklearn.ensemble import RandomForestRegressor, AdaBoostRegressor, GradientBoostingRegressor, VotingRegressor, BaggingRegressor\n",
        "from sklearn.svm import SVR\n",
        "import lightgbm as lgb\n",
        "import xgboost as xgb\n",
        "from sklearn.metrics import mean_squared_error, mean_absolute_error, r2_score, mean_absolute_percentage_error\n",
        "from sklearn.model_selection import GridSearchCV\n",
        "\n",
        "import numpy as np\n",
        "import random\n",
        "import pandas as pd\n",
        "import time\n",
        "import warnings\n",
        "warnings.filterwarnings('ignore')"
      ]
    },
    {
      "cell_type": "code",
      "execution_count": null,
      "id": "73c8aff4",
      "metadata": {
        "id": "73c8aff4"
      },
      "outputs": [],
      "source": [
        "random.seed(20)"
      ]
    },
    {
      "attachments": {},
      "cell_type": "markdown",
      "id": "3d58f230",
      "metadata": {
        "id": "3d58f230"
      },
      "source": [
        "Cargo dataset, convierto variables categóricas y numéricas y divido en datos de entrenamiento y test"
      ]
    },
    {
      "cell_type": "code",
      "execution_count": null,
      "id": "e357ee0c",
      "metadata": {
        "id": "e357ee0c"
      },
      "outputs": [],
      "source": [
        "dataset = pd.read_csv('final_car_data.csv', sep=\";\")\n",
        "dataset = dataset.drop(columns=[\"id\", \"Marca\", \"Url\"])\n",
        "dataset = dataset.rename(columns={'Transmision': 'Automatico', 'Tipo de vendedor': 'Particular'})\n",
        "dataset['Automatico'].replace(['manual', 'automatic'], [0, 1], inplace=True)\n",
        "dataset['Particular'].replace(['particular', 'profesional'], [0, 1], inplace=True)"
      ]
    },
    {
      "cell_type": "code",
      "execution_count": null,
      "id": "2ad2c267",
      "metadata": {
        "colab": {
          "base_uri": "https://localhost:8080/",
          "height": 424
        },
        "id": "2ad2c267",
        "outputId": "e3828663-abdf-44d0-a21c-11bcff3c1dc5"
      },
      "outputs": [
        {
          "data": {
            "text/html": [
              "\n",
              "  <div id=\"df-0399c862-ba0d-420d-bdc6-eb00ef6cf51b\">\n",
              "    <div class=\"colab-df-container\">\n",
              "      <div>\n",
              "<style scoped>\n",
              "    .dataframe tbody tr th:only-of-type {\n",
              "        vertical-align: middle;\n",
              "    }\n",
              "\n",
              "    .dataframe tbody tr th {\n",
              "        vertical-align: top;\n",
              "    }\n",
              "\n",
              "    .dataframe thead th {\n",
              "        text-align: right;\n",
              "    }\n",
              "</style>\n",
              "<table border=\"1\" class=\"dataframe\">\n",
              "  <thead>\n",
              "    <tr style=\"text-align: right;\">\n",
              "      <th></th>\n",
              "      <th>Modelo</th>\n",
              "      <th>Km</th>\n",
              "      <th>Cilindrada</th>\n",
              "      <th>Caballos</th>\n",
              "      <th>Año</th>\n",
              "      <th>Combustible</th>\n",
              "      <th>Provincia</th>\n",
              "      <th>Automatico</th>\n",
              "      <th>Traccion</th>\n",
              "      <th>Tipo</th>\n",
              "      <th>Puertas</th>\n",
              "      <th>Color</th>\n",
              "      <th>Asientos</th>\n",
              "      <th>Particular</th>\n",
              "      <th>Precio</th>\n",
              "    </tr>\n",
              "  </thead>\n",
              "  <tbody>\n",
              "    <tr>\n",
              "      <th>0</th>\n",
              "      <td>0</td>\n",
              "      <td>162000</td>\n",
              "      <td>1998</td>\n",
              "      <td>124</td>\n",
              "      <td>2012</td>\n",
              "      <td>diesel</td>\n",
              "      <td>Barcelona</td>\n",
              "      <td>0</td>\n",
              "      <td>delantera</td>\n",
              "      <td>berlina</td>\n",
              "      <td>4</td>\n",
              "      <td>blanco</td>\n",
              "      <td>5</td>\n",
              "      <td>0</td>\n",
              "      <td>7900</td>\n",
              "    </tr>\n",
              "    <tr>\n",
              "      <th>1</th>\n",
              "      <td>1</td>\n",
              "      <td>64707</td>\n",
              "      <td>1496</td>\n",
              "      <td>111</td>\n",
              "      <td>2020</td>\n",
              "      <td>gasolina</td>\n",
              "      <td>Valencia</td>\n",
              "      <td>0</td>\n",
              "      <td>delantera</td>\n",
              "      <td>berlina</td>\n",
              "      <td>5</td>\n",
              "      <td>gris</td>\n",
              "      <td>5</td>\n",
              "      <td>1</td>\n",
              "      <td>15350</td>\n",
              "    </tr>\n",
              "    <tr>\n",
              "      <th>2</th>\n",
              "      <td>2</td>\n",
              "      <td>40971</td>\n",
              "      <td>998</td>\n",
              "      <td>69</td>\n",
              "      <td>2018</td>\n",
              "      <td>gasolina</td>\n",
              "      <td>Madrid</td>\n",
              "      <td>0</td>\n",
              "      <td>delantera</td>\n",
              "      <td>berlina</td>\n",
              "      <td>3</td>\n",
              "      <td>blanco</td>\n",
              "      <td>4</td>\n",
              "      <td>1</td>\n",
              "      <td>12890</td>\n",
              "    </tr>\n",
              "    <tr>\n",
              "      <th>3</th>\n",
              "      <td>3</td>\n",
              "      <td>15313</td>\n",
              "      <td>1798</td>\n",
              "      <td>122</td>\n",
              "      <td>2022</td>\n",
              "      <td>hibrido</td>\n",
              "      <td>Madrid</td>\n",
              "      <td>1</td>\n",
              "      <td>delantera</td>\n",
              "      <td>berlina</td>\n",
              "      <td>5</td>\n",
              "      <td>negro</td>\n",
              "      <td>5</td>\n",
              "      <td>1</td>\n",
              "      <td>23999</td>\n",
              "    </tr>\n",
              "    <tr>\n",
              "      <th>4</th>\n",
              "      <td>4</td>\n",
              "      <td>33911</td>\n",
              "      <td>1798</td>\n",
              "      <td>122</td>\n",
              "      <td>2022</td>\n",
              "      <td>hibrido</td>\n",
              "      <td>Madrid</td>\n",
              "      <td>1</td>\n",
              "      <td>delantera</td>\n",
              "      <td>berlina</td>\n",
              "      <td>5</td>\n",
              "      <td>marron</td>\n",
              "      <td>5</td>\n",
              "      <td>1</td>\n",
              "      <td>24999</td>\n",
              "    </tr>\n",
              "    <tr>\n",
              "      <th>...</th>\n",
              "      <td>...</td>\n",
              "      <td>...</td>\n",
              "      <td>...</td>\n",
              "      <td>...</td>\n",
              "      <td>...</td>\n",
              "      <td>...</td>\n",
              "      <td>...</td>\n",
              "      <td>...</td>\n",
              "      <td>...</td>\n",
              "      <td>...</td>\n",
              "      <td>...</td>\n",
              "      <td>...</td>\n",
              "      <td>...</td>\n",
              "      <td>...</td>\n",
              "      <td>...</td>\n",
              "    </tr>\n",
              "    <tr>\n",
              "      <th>6755</th>\n",
              "      <td>21</td>\n",
              "      <td>120000</td>\n",
              "      <td>2494</td>\n",
              "      <td>120</td>\n",
              "      <td>2009</td>\n",
              "      <td>diesel</td>\n",
              "      <td>Córdoba</td>\n",
              "      <td>0</td>\n",
              "      <td>total</td>\n",
              "      <td>pick up</td>\n",
              "      <td>2</td>\n",
              "      <td>blanco</td>\n",
              "      <td>2</td>\n",
              "      <td>1</td>\n",
              "      <td>21900</td>\n",
              "    </tr>\n",
              "    <tr>\n",
              "      <th>6756</th>\n",
              "      <td>1</td>\n",
              "      <td>260000</td>\n",
              "      <td>1298</td>\n",
              "      <td>87</td>\n",
              "      <td>2005</td>\n",
              "      <td>gasolina</td>\n",
              "      <td>Madrid</td>\n",
              "      <td>0</td>\n",
              "      <td>delantera</td>\n",
              "      <td>berlina</td>\n",
              "      <td>3</td>\n",
              "      <td>negro</td>\n",
              "      <td>5</td>\n",
              "      <td>0</td>\n",
              "      <td>3000</td>\n",
              "    </tr>\n",
              "    <tr>\n",
              "      <th>6757</th>\n",
              "      <td>21</td>\n",
              "      <td>61000</td>\n",
              "      <td>2393</td>\n",
              "      <td>150</td>\n",
              "      <td>2017</td>\n",
              "      <td>diesel</td>\n",
              "      <td>Córdoba</td>\n",
              "      <td>0</td>\n",
              "      <td>total</td>\n",
              "      <td>pick up</td>\n",
              "      <td>4</td>\n",
              "      <td>blanco</td>\n",
              "      <td>5</td>\n",
              "      <td>1</td>\n",
              "      <td>24900</td>\n",
              "    </tr>\n",
              "    <tr>\n",
              "      <th>6758</th>\n",
              "      <td>14</td>\n",
              "      <td>131000</td>\n",
              "      <td>2755</td>\n",
              "      <td>177</td>\n",
              "      <td>2017</td>\n",
              "      <td>diesel</td>\n",
              "      <td>Córdoba</td>\n",
              "      <td>1</td>\n",
              "      <td>total</td>\n",
              "      <td>4x4 suv</td>\n",
              "      <td>5</td>\n",
              "      <td>azul</td>\n",
              "      <td>7</td>\n",
              "      <td>1</td>\n",
              "      <td>36800</td>\n",
              "    </tr>\n",
              "    <tr>\n",
              "      <th>6759</th>\n",
              "      <td>5</td>\n",
              "      <td>150000</td>\n",
              "      <td>1998</td>\n",
              "      <td>124</td>\n",
              "      <td>2013</td>\n",
              "      <td>diesel</td>\n",
              "      <td>Toledo</td>\n",
              "      <td>0</td>\n",
              "      <td>delantera</td>\n",
              "      <td>berlina</td>\n",
              "      <td>5</td>\n",
              "      <td>granate</td>\n",
              "      <td>5</td>\n",
              "      <td>0</td>\n",
              "      <td>11000</td>\n",
              "    </tr>\n",
              "  </tbody>\n",
              "</table>\n",
              "<p>6760 rows × 15 columns</p>\n",
              "</div>\n",
              "      <button class=\"colab-df-convert\" onclick=\"convertToInteractive('df-0399c862-ba0d-420d-bdc6-eb00ef6cf51b')\"\n",
              "              title=\"Convert this dataframe to an interactive table.\"\n",
              "              style=\"display:none;\">\n",
              "        \n",
              "  <svg xmlns=\"http://www.w3.org/2000/svg\" height=\"24px\"viewBox=\"0 0 24 24\"\n",
              "       width=\"24px\">\n",
              "    <path d=\"M0 0h24v24H0V0z\" fill=\"none\"/>\n",
              "    <path d=\"M18.56 5.44l.94 2.06.94-2.06 2.06-.94-2.06-.94-.94-2.06-.94 2.06-2.06.94zm-11 1L8.5 8.5l.94-2.06 2.06-.94-2.06-.94L8.5 2.5l-.94 2.06-2.06.94zm10 10l.94 2.06.94-2.06 2.06-.94-2.06-.94-.94-2.06-.94 2.06-2.06.94z\"/><path d=\"M17.41 7.96l-1.37-1.37c-.4-.4-.92-.59-1.43-.59-.52 0-1.04.2-1.43.59L10.3 9.45l-7.72 7.72c-.78.78-.78 2.05 0 2.83L4 21.41c.39.39.9.59 1.41.59.51 0 1.02-.2 1.41-.59l7.78-7.78 2.81-2.81c.8-.78.8-2.07 0-2.86zM5.41 20L4 18.59l7.72-7.72 1.47 1.35L5.41 20z\"/>\n",
              "  </svg>\n",
              "      </button>\n",
              "      \n",
              "  <style>\n",
              "    .colab-df-container {\n",
              "      display:flex;\n",
              "      flex-wrap:wrap;\n",
              "      gap: 12px;\n",
              "    }\n",
              "\n",
              "    .colab-df-convert {\n",
              "      background-color: #E8F0FE;\n",
              "      border: none;\n",
              "      border-radius: 50%;\n",
              "      cursor: pointer;\n",
              "      display: none;\n",
              "      fill: #1967D2;\n",
              "      height: 32px;\n",
              "      padding: 0 0 0 0;\n",
              "      width: 32px;\n",
              "    }\n",
              "\n",
              "    .colab-df-convert:hover {\n",
              "      background-color: #E2EBFA;\n",
              "      box-shadow: 0px 1px 2px rgba(60, 64, 67, 0.3), 0px 1px 3px 1px rgba(60, 64, 67, 0.15);\n",
              "      fill: #174EA6;\n",
              "    }\n",
              "\n",
              "    [theme=dark] .colab-df-convert {\n",
              "      background-color: #3B4455;\n",
              "      fill: #D2E3FC;\n",
              "    }\n",
              "\n",
              "    [theme=dark] .colab-df-convert:hover {\n",
              "      background-color: #434B5C;\n",
              "      box-shadow: 0px 1px 3px 1px rgba(0, 0, 0, 0.15);\n",
              "      filter: drop-shadow(0px 1px 2px rgba(0, 0, 0, 0.3));\n",
              "      fill: #FFFFFF;\n",
              "    }\n",
              "  </style>\n",
              "\n",
              "      <script>\n",
              "        const buttonEl =\n",
              "          document.querySelector('#df-0399c862-ba0d-420d-bdc6-eb00ef6cf51b button.colab-df-convert');\n",
              "        buttonEl.style.display =\n",
              "          google.colab.kernel.accessAllowed ? 'block' : 'none';\n",
              "\n",
              "        async function convertToInteractive(key) {\n",
              "          const element = document.querySelector('#df-0399c862-ba0d-420d-bdc6-eb00ef6cf51b');\n",
              "          const dataTable =\n",
              "            await google.colab.kernel.invokeFunction('convertToInteractive',\n",
              "                                                     [key], {});\n",
              "          if (!dataTable) return;\n",
              "\n",
              "          const docLinkHtml = 'Like what you see? Visit the ' +\n",
              "            '<a target=\"_blank\" href=https://colab.research.google.com/notebooks/data_table.ipynb>data table notebook</a>'\n",
              "            + ' to learn more about interactive tables.';\n",
              "          element.innerHTML = '';\n",
              "          dataTable['output_type'] = 'display_data';\n",
              "          await google.colab.output.renderOutput(dataTable, element);\n",
              "          const docLink = document.createElement('div');\n",
              "          docLink.innerHTML = docLinkHtml;\n",
              "          element.appendChild(docLink);\n",
              "        }\n",
              "      </script>\n",
              "    </div>\n",
              "  </div>\n",
              "  "
            ],
            "text/plain": [
              "      Modelo      Km  Cilindrada  Caballos   Año Combustible  Provincia  \\\n",
              "0          0  162000        1998       124  2012      diesel  Barcelona   \n",
              "1          1   64707        1496       111  2020    gasolina   Valencia   \n",
              "2          2   40971         998        69  2018    gasolina     Madrid   \n",
              "3          3   15313        1798       122  2022     hibrido     Madrid   \n",
              "4          4   33911        1798       122  2022     hibrido     Madrid   \n",
              "...      ...     ...         ...       ...   ...         ...        ...   \n",
              "6755      21  120000        2494       120  2009      diesel    Córdoba   \n",
              "6756       1  260000        1298        87  2005    gasolina     Madrid   \n",
              "6757      21   61000        2393       150  2017      diesel    Córdoba   \n",
              "6758      14  131000        2755       177  2017      diesel    Córdoba   \n",
              "6759       5  150000        1998       124  2013      diesel     Toledo   \n",
              "\n",
              "      Automatico   Traccion     Tipo  Puertas    Color  Asientos  Particular  \\\n",
              "0              0  delantera  berlina        4   blanco         5           0   \n",
              "1              0  delantera  berlina        5     gris         5           1   \n",
              "2              0  delantera  berlina        3   blanco         4           1   \n",
              "3              1  delantera  berlina        5    negro         5           1   \n",
              "4              1  delantera  berlina        5   marron         5           1   \n",
              "...          ...        ...      ...      ...      ...       ...         ...   \n",
              "6755           0      total  pick up        2   blanco         2           1   \n",
              "6756           0  delantera  berlina        3    negro         5           0   \n",
              "6757           0      total  pick up        4   blanco         5           1   \n",
              "6758           1      total  4x4 suv        5     azul         7           1   \n",
              "6759           0  delantera  berlina        5  granate         5           0   \n",
              "\n",
              "      Precio  \n",
              "0       7900  \n",
              "1      15350  \n",
              "2      12890  \n",
              "3      23999  \n",
              "4      24999  \n",
              "...      ...  \n",
              "6755   21900  \n",
              "6756    3000  \n",
              "6757   24900  \n",
              "6758   36800  \n",
              "6759   11000  \n",
              "\n",
              "[6760 rows x 15 columns]"
            ]
          },
          "execution_count": 7,
          "metadata": {},
          "output_type": "execute_result"
        }
      ],
      "source": [
        "stacked = dataset[['Modelo']].stack()\n",
        "dataset[['Modelo']] = pd.Series(stacked.factorize()[0], index=stacked.index).unstack()\n",
        "dataset"
      ]
    },
    {
      "cell_type": "code",
      "execution_count": null,
      "id": "d561acf2",
      "metadata": {
        "colab": {
          "base_uri": "https://localhost:8080/",
          "height": 488
        },
        "id": "d561acf2",
        "outputId": "e8974b67-3981-4c86-d055-01c80940deaf"
      },
      "outputs": [
        {
          "data": {
            "text/html": [
              "\n",
              "  <div id=\"df-0bb253fb-78c5-4da1-b886-0b6a8b4bf4c1\">\n",
              "    <div class=\"colab-df-container\">\n",
              "      <div>\n",
              "<style scoped>\n",
              "    .dataframe tbody tr th:only-of-type {\n",
              "        vertical-align: middle;\n",
              "    }\n",
              "\n",
              "    .dataframe tbody tr th {\n",
              "        vertical-align: top;\n",
              "    }\n",
              "\n",
              "    .dataframe thead th {\n",
              "        text-align: right;\n",
              "    }\n",
              "</style>\n",
              "<table border=\"1\" class=\"dataframe\">\n",
              "  <thead>\n",
              "    <tr style=\"text-align: right;\">\n",
              "      <th></th>\n",
              "      <th>Modelo</th>\n",
              "      <th>Km</th>\n",
              "      <th>Cilindrada</th>\n",
              "      <th>Caballos</th>\n",
              "      <th>Año</th>\n",
              "      <th>Automatico</th>\n",
              "      <th>Puertas</th>\n",
              "      <th>Asientos</th>\n",
              "      <th>Particular</th>\n",
              "      <th>Precio</th>\n",
              "      <th>...</th>\n",
              "      <th>Color_beige</th>\n",
              "      <th>Color_blanco</th>\n",
              "      <th>Color_granate</th>\n",
              "      <th>Color_gris</th>\n",
              "      <th>Color_marron</th>\n",
              "      <th>Color_morado</th>\n",
              "      <th>Color_naranja</th>\n",
              "      <th>Color_negro</th>\n",
              "      <th>Color_rojo</th>\n",
              "      <th>Color_verde</th>\n",
              "    </tr>\n",
              "  </thead>\n",
              "  <tbody>\n",
              "    <tr>\n",
              "      <th>0</th>\n",
              "      <td>0</td>\n",
              "      <td>162000</td>\n",
              "      <td>1998</td>\n",
              "      <td>124</td>\n",
              "      <td>2012</td>\n",
              "      <td>0</td>\n",
              "      <td>4</td>\n",
              "      <td>5</td>\n",
              "      <td>0</td>\n",
              "      <td>7900</td>\n",
              "      <td>...</td>\n",
              "      <td>0</td>\n",
              "      <td>1</td>\n",
              "      <td>0</td>\n",
              "      <td>0</td>\n",
              "      <td>0</td>\n",
              "      <td>0</td>\n",
              "      <td>0</td>\n",
              "      <td>0</td>\n",
              "      <td>0</td>\n",
              "      <td>0</td>\n",
              "    </tr>\n",
              "    <tr>\n",
              "      <th>1</th>\n",
              "      <td>1</td>\n",
              "      <td>64707</td>\n",
              "      <td>1496</td>\n",
              "      <td>111</td>\n",
              "      <td>2020</td>\n",
              "      <td>0</td>\n",
              "      <td>5</td>\n",
              "      <td>5</td>\n",
              "      <td>1</td>\n",
              "      <td>15350</td>\n",
              "      <td>...</td>\n",
              "      <td>0</td>\n",
              "      <td>0</td>\n",
              "      <td>0</td>\n",
              "      <td>1</td>\n",
              "      <td>0</td>\n",
              "      <td>0</td>\n",
              "      <td>0</td>\n",
              "      <td>0</td>\n",
              "      <td>0</td>\n",
              "      <td>0</td>\n",
              "    </tr>\n",
              "    <tr>\n",
              "      <th>2</th>\n",
              "      <td>2</td>\n",
              "      <td>40971</td>\n",
              "      <td>998</td>\n",
              "      <td>69</td>\n",
              "      <td>2018</td>\n",
              "      <td>0</td>\n",
              "      <td>3</td>\n",
              "      <td>4</td>\n",
              "      <td>1</td>\n",
              "      <td>12890</td>\n",
              "      <td>...</td>\n",
              "      <td>0</td>\n",
              "      <td>1</td>\n",
              "      <td>0</td>\n",
              "      <td>0</td>\n",
              "      <td>0</td>\n",
              "      <td>0</td>\n",
              "      <td>0</td>\n",
              "      <td>0</td>\n",
              "      <td>0</td>\n",
              "      <td>0</td>\n",
              "    </tr>\n",
              "    <tr>\n",
              "      <th>3</th>\n",
              "      <td>3</td>\n",
              "      <td>15313</td>\n",
              "      <td>1798</td>\n",
              "      <td>122</td>\n",
              "      <td>2022</td>\n",
              "      <td>1</td>\n",
              "      <td>5</td>\n",
              "      <td>5</td>\n",
              "      <td>1</td>\n",
              "      <td>23999</td>\n",
              "      <td>...</td>\n",
              "      <td>0</td>\n",
              "      <td>0</td>\n",
              "      <td>0</td>\n",
              "      <td>0</td>\n",
              "      <td>0</td>\n",
              "      <td>0</td>\n",
              "      <td>0</td>\n",
              "      <td>1</td>\n",
              "      <td>0</td>\n",
              "      <td>0</td>\n",
              "    </tr>\n",
              "    <tr>\n",
              "      <th>4</th>\n",
              "      <td>4</td>\n",
              "      <td>33911</td>\n",
              "      <td>1798</td>\n",
              "      <td>122</td>\n",
              "      <td>2022</td>\n",
              "      <td>1</td>\n",
              "      <td>5</td>\n",
              "      <td>5</td>\n",
              "      <td>1</td>\n",
              "      <td>24999</td>\n",
              "      <td>...</td>\n",
              "      <td>0</td>\n",
              "      <td>0</td>\n",
              "      <td>0</td>\n",
              "      <td>0</td>\n",
              "      <td>1</td>\n",
              "      <td>0</td>\n",
              "      <td>0</td>\n",
              "      <td>0</td>\n",
              "      <td>0</td>\n",
              "      <td>0</td>\n",
              "    </tr>\n",
              "    <tr>\n",
              "      <th>...</th>\n",
              "      <td>...</td>\n",
              "      <td>...</td>\n",
              "      <td>...</td>\n",
              "      <td>...</td>\n",
              "      <td>...</td>\n",
              "      <td>...</td>\n",
              "      <td>...</td>\n",
              "      <td>...</td>\n",
              "      <td>...</td>\n",
              "      <td>...</td>\n",
              "      <td>...</td>\n",
              "      <td>...</td>\n",
              "      <td>...</td>\n",
              "      <td>...</td>\n",
              "      <td>...</td>\n",
              "      <td>...</td>\n",
              "      <td>...</td>\n",
              "      <td>...</td>\n",
              "      <td>...</td>\n",
              "      <td>...</td>\n",
              "      <td>...</td>\n",
              "    </tr>\n",
              "    <tr>\n",
              "      <th>6755</th>\n",
              "      <td>21</td>\n",
              "      <td>120000</td>\n",
              "      <td>2494</td>\n",
              "      <td>120</td>\n",
              "      <td>2009</td>\n",
              "      <td>0</td>\n",
              "      <td>2</td>\n",
              "      <td>2</td>\n",
              "      <td>1</td>\n",
              "      <td>21900</td>\n",
              "      <td>...</td>\n",
              "      <td>0</td>\n",
              "      <td>1</td>\n",
              "      <td>0</td>\n",
              "      <td>0</td>\n",
              "      <td>0</td>\n",
              "      <td>0</td>\n",
              "      <td>0</td>\n",
              "      <td>0</td>\n",
              "      <td>0</td>\n",
              "      <td>0</td>\n",
              "    </tr>\n",
              "    <tr>\n",
              "      <th>6756</th>\n",
              "      <td>1</td>\n",
              "      <td>260000</td>\n",
              "      <td>1298</td>\n",
              "      <td>87</td>\n",
              "      <td>2005</td>\n",
              "      <td>0</td>\n",
              "      <td>3</td>\n",
              "      <td>5</td>\n",
              "      <td>0</td>\n",
              "      <td>3000</td>\n",
              "      <td>...</td>\n",
              "      <td>0</td>\n",
              "      <td>0</td>\n",
              "      <td>0</td>\n",
              "      <td>0</td>\n",
              "      <td>0</td>\n",
              "      <td>0</td>\n",
              "      <td>0</td>\n",
              "      <td>1</td>\n",
              "      <td>0</td>\n",
              "      <td>0</td>\n",
              "    </tr>\n",
              "    <tr>\n",
              "      <th>6757</th>\n",
              "      <td>21</td>\n",
              "      <td>61000</td>\n",
              "      <td>2393</td>\n",
              "      <td>150</td>\n",
              "      <td>2017</td>\n",
              "      <td>0</td>\n",
              "      <td>4</td>\n",
              "      <td>5</td>\n",
              "      <td>1</td>\n",
              "      <td>24900</td>\n",
              "      <td>...</td>\n",
              "      <td>0</td>\n",
              "      <td>1</td>\n",
              "      <td>0</td>\n",
              "      <td>0</td>\n",
              "      <td>0</td>\n",
              "      <td>0</td>\n",
              "      <td>0</td>\n",
              "      <td>0</td>\n",
              "      <td>0</td>\n",
              "      <td>0</td>\n",
              "    </tr>\n",
              "    <tr>\n",
              "      <th>6758</th>\n",
              "      <td>14</td>\n",
              "      <td>131000</td>\n",
              "      <td>2755</td>\n",
              "      <td>177</td>\n",
              "      <td>2017</td>\n",
              "      <td>1</td>\n",
              "      <td>5</td>\n",
              "      <td>7</td>\n",
              "      <td>1</td>\n",
              "      <td>36800</td>\n",
              "      <td>...</td>\n",
              "      <td>0</td>\n",
              "      <td>0</td>\n",
              "      <td>0</td>\n",
              "      <td>0</td>\n",
              "      <td>0</td>\n",
              "      <td>0</td>\n",
              "      <td>0</td>\n",
              "      <td>0</td>\n",
              "      <td>0</td>\n",
              "      <td>0</td>\n",
              "    </tr>\n",
              "    <tr>\n",
              "      <th>6759</th>\n",
              "      <td>5</td>\n",
              "      <td>150000</td>\n",
              "      <td>1998</td>\n",
              "      <td>124</td>\n",
              "      <td>2013</td>\n",
              "      <td>0</td>\n",
              "      <td>5</td>\n",
              "      <td>5</td>\n",
              "      <td>0</td>\n",
              "      <td>11000</td>\n",
              "      <td>...</td>\n",
              "      <td>0</td>\n",
              "      <td>0</td>\n",
              "      <td>1</td>\n",
              "      <td>0</td>\n",
              "      <td>0</td>\n",
              "      <td>0</td>\n",
              "      <td>0</td>\n",
              "      <td>0</td>\n",
              "      <td>0</td>\n",
              "      <td>0</td>\n",
              "    </tr>\n",
              "  </tbody>\n",
              "</table>\n",
              "<p>6760 rows × 88 columns</p>\n",
              "</div>\n",
              "      <button class=\"colab-df-convert\" onclick=\"convertToInteractive('df-0bb253fb-78c5-4da1-b886-0b6a8b4bf4c1')\"\n",
              "              title=\"Convert this dataframe to an interactive table.\"\n",
              "              style=\"display:none;\">\n",
              "        \n",
              "  <svg xmlns=\"http://www.w3.org/2000/svg\" height=\"24px\"viewBox=\"0 0 24 24\"\n",
              "       width=\"24px\">\n",
              "    <path d=\"M0 0h24v24H0V0z\" fill=\"none\"/>\n",
              "    <path d=\"M18.56 5.44l.94 2.06.94-2.06 2.06-.94-2.06-.94-.94-2.06-.94 2.06-2.06.94zm-11 1L8.5 8.5l.94-2.06 2.06-.94-2.06-.94L8.5 2.5l-.94 2.06-2.06.94zm10 10l.94 2.06.94-2.06 2.06-.94-2.06-.94-.94-2.06-.94 2.06-2.06.94z\"/><path d=\"M17.41 7.96l-1.37-1.37c-.4-.4-.92-.59-1.43-.59-.52 0-1.04.2-1.43.59L10.3 9.45l-7.72 7.72c-.78.78-.78 2.05 0 2.83L4 21.41c.39.39.9.59 1.41.59.51 0 1.02-.2 1.41-.59l7.78-7.78 2.81-2.81c.8-.78.8-2.07 0-2.86zM5.41 20L4 18.59l7.72-7.72 1.47 1.35L5.41 20z\"/>\n",
              "  </svg>\n",
              "      </button>\n",
              "      \n",
              "  <style>\n",
              "    .colab-df-container {\n",
              "      display:flex;\n",
              "      flex-wrap:wrap;\n",
              "      gap: 12px;\n",
              "    }\n",
              "\n",
              "    .colab-df-convert {\n",
              "      background-color: #E8F0FE;\n",
              "      border: none;\n",
              "      border-radius: 50%;\n",
              "      cursor: pointer;\n",
              "      display: none;\n",
              "      fill: #1967D2;\n",
              "      height: 32px;\n",
              "      padding: 0 0 0 0;\n",
              "      width: 32px;\n",
              "    }\n",
              "\n",
              "    .colab-df-convert:hover {\n",
              "      background-color: #E2EBFA;\n",
              "      box-shadow: 0px 1px 2px rgba(60, 64, 67, 0.3), 0px 1px 3px 1px rgba(60, 64, 67, 0.15);\n",
              "      fill: #174EA6;\n",
              "    }\n",
              "\n",
              "    [theme=dark] .colab-df-convert {\n",
              "      background-color: #3B4455;\n",
              "      fill: #D2E3FC;\n",
              "    }\n",
              "\n",
              "    [theme=dark] .colab-df-convert:hover {\n",
              "      background-color: #434B5C;\n",
              "      box-shadow: 0px 1px 3px 1px rgba(0, 0, 0, 0.15);\n",
              "      filter: drop-shadow(0px 1px 2px rgba(0, 0, 0, 0.3));\n",
              "      fill: #FFFFFF;\n",
              "    }\n",
              "  </style>\n",
              "\n",
              "      <script>\n",
              "        const buttonEl =\n",
              "          document.querySelector('#df-0bb253fb-78c5-4da1-b886-0b6a8b4bf4c1 button.colab-df-convert');\n",
              "        buttonEl.style.display =\n",
              "          google.colab.kernel.accessAllowed ? 'block' : 'none';\n",
              "\n",
              "        async function convertToInteractive(key) {\n",
              "          const element = document.querySelector('#df-0bb253fb-78c5-4da1-b886-0b6a8b4bf4c1');\n",
              "          const dataTable =\n",
              "            await google.colab.kernel.invokeFunction('convertToInteractive',\n",
              "                                                     [key], {});\n",
              "          if (!dataTable) return;\n",
              "\n",
              "          const docLinkHtml = 'Like what you see? Visit the ' +\n",
              "            '<a target=\"_blank\" href=https://colab.research.google.com/notebooks/data_table.ipynb>data table notebook</a>'\n",
              "            + ' to learn more about interactive tables.';\n",
              "          element.innerHTML = '';\n",
              "          dataTable['output_type'] = 'display_data';\n",
              "          await google.colab.output.renderOutput(dataTable, element);\n",
              "          const docLink = document.createElement('div');\n",
              "          docLink.innerHTML = docLinkHtml;\n",
              "          element.appendChild(docLink);\n",
              "        }\n",
              "      </script>\n",
              "    </div>\n",
              "  </div>\n",
              "  "
            ],
            "text/plain": [
              "      Modelo      Km  Cilindrada  Caballos   Año  Automatico  Puertas  \\\n",
              "0          0  162000        1998       124  2012           0        4   \n",
              "1          1   64707        1496       111  2020           0        5   \n",
              "2          2   40971         998        69  2018           0        3   \n",
              "3          3   15313        1798       122  2022           1        5   \n",
              "4          4   33911        1798       122  2022           1        5   \n",
              "...      ...     ...         ...       ...   ...         ...      ...   \n",
              "6755      21  120000        2494       120  2009           0        2   \n",
              "6756       1  260000        1298        87  2005           0        3   \n",
              "6757      21   61000        2393       150  2017           0        4   \n",
              "6758      14  131000        2755       177  2017           1        5   \n",
              "6759       5  150000        1998       124  2013           0        5   \n",
              "\n",
              "      Asientos  Particular  Precio  ...  Color_beige  Color_blanco  \\\n",
              "0            5           0    7900  ...            0             1   \n",
              "1            5           1   15350  ...            0             0   \n",
              "2            4           1   12890  ...            0             1   \n",
              "3            5           1   23999  ...            0             0   \n",
              "4            5           1   24999  ...            0             0   \n",
              "...        ...         ...     ...  ...          ...           ...   \n",
              "6755         2           1   21900  ...            0             1   \n",
              "6756         5           0    3000  ...            0             0   \n",
              "6757         5           1   24900  ...            0             1   \n",
              "6758         7           1   36800  ...            0             0   \n",
              "6759         5           0   11000  ...            0             0   \n",
              "\n",
              "      Color_granate  Color_gris  Color_marron  Color_morado  Color_naranja  \\\n",
              "0                 0           0             0             0              0   \n",
              "1                 0           1             0             0              0   \n",
              "2                 0           0             0             0              0   \n",
              "3                 0           0             0             0              0   \n",
              "4                 0           0             1             0              0   \n",
              "...             ...         ...           ...           ...            ...   \n",
              "6755              0           0             0             0              0   \n",
              "6756              0           0             0             0              0   \n",
              "6757              0           0             0             0              0   \n",
              "6758              0           0             0             0              0   \n",
              "6759              1           0             0             0              0   \n",
              "\n",
              "      Color_negro  Color_rojo  Color_verde  \n",
              "0               0           0            0  \n",
              "1               0           0            0  \n",
              "2               0           0            0  \n",
              "3               1           0            0  \n",
              "4               0           0            0  \n",
              "...           ...         ...          ...  \n",
              "6755            0           0            0  \n",
              "6756            1           0            0  \n",
              "6757            0           0            0  \n",
              "6758            0           0            0  \n",
              "6759            0           0            0  \n",
              "\n",
              "[6760 rows x 88 columns]"
            ]
          },
          "execution_count": 8,
          "metadata": {},
          "output_type": "execute_result"
        }
      ],
      "source": [
        "data = pd.get_dummies(dataset, columns=['Provincia','Combustible', 'Traccion', 'Tipo', 'Color'])\n",
        "data"
      ]
    },
    {
      "attachments": {},
      "cell_type": "markdown",
      "id": "pz8kUeKdcrpb",
      "metadata": {
        "id": "pz8kUeKdcrpb"
      },
      "source": [
        "Esta función toma como argumento el dataset, divide en datos de entrenamiento y test, escala los valores y devuelve los datasets necesarios para todos los modelos"
      ]
    },
    {
      "cell_type": "code",
      "execution_count": null,
      "id": "0_fPc4imcq1h",
      "metadata": {
        "id": "0_fPc4imcq1h"
      },
      "outputs": [],
      "source": [
        "def preprocess_data(data):\n",
        "  y = data[[\"Precio\"]]\n",
        "  X = data.loc[:, data.columns != 'Precio']\n",
        "\n",
        "  X_train, X_test, y_train, y_test = train_test_split(X, y, test_size=0.25, random_state = 4)\n",
        "\n",
        "  scaler = preprocessing.StandardScaler().fit(X_train)\n",
        "  X_train_scaled = scaler.transform(X_train)\n",
        "  X_test_scaled = scaler.transform(X_test)\n",
        "\n",
        "  #Creo un dataframe con lo escalado para poder hacer selección de características después\n",
        "  X_train_scaled = pd.DataFrame(X_train_scaled, index=X_train.index, columns=X_train.columns)\n",
        "  X_test_scaled = pd.DataFrame(X_test_scaled, index=X_test.index, columns=X_test.columns)\n",
        "\n",
        "  train_features = X_train_scaled.copy(deep=True)\n",
        "  test_features = X_test_scaled.copy(deep=True)\n",
        "\n",
        "  train_features_2 = X_train_scaled[X_train_scaled.columns.drop(list(X_train_scaled.filter(regex='Provincia')))]\n",
        "  test_features_2 = X_test_scaled[X_test_scaled.columns.drop(list(X_train_scaled.filter(regex='Provincia')))]\n",
        "\n",
        "  train_features_3 = train_features_2[train_features_2.columns.drop(list(train_features_2.filter(regex='Tipo')))]\n",
        "  test_features_3 = test_features_2[test_features_2.columns.drop(list(test_features_2.filter(regex='Tipo')))]\n",
        "  train_features_3 = train_features_2[train_features_2.columns.drop(list(train_features_2.filter(regex='Puertas')))]\n",
        "  test_features_3 = test_features_2[test_features_2.columns.drop(list(test_features_2.filter(regex='Puertas')))]\n",
        "  train_features_3 = train_features_2[train_features_2.columns.drop(list(train_features_2.filter(regex='Color')))]\n",
        "  test_features_3 = test_features_2[test_features_2.columns.drop(list(test_features_2.filter(regex='Color')))]\n",
        "\n",
        "  return y_train, y_test, train_features, test_features, train_features_2, test_features_2, train_features_3, test_features_3"
      ]
    },
    {
      "cell_type": "code",
      "execution_count": null,
      "id": "YDmtrlsBc3Io",
      "metadata": {
        "id": "YDmtrlsBc3Io"
      },
      "outputs": [],
      "source": [
        "y_train, y_test, train_features, test_features, train_features_2, test_features_2, train_features_3, test_features_3 = preprocess_data(data)"
      ]
    },
    {
      "attachments": {},
      "cell_type": "markdown",
      "id": "5mg_Oyx-eCju",
      "metadata": {
        "id": "5mg_Oyx-eCju"
      },
      "source": [
        "Función para imprimir los resultados del modelo"
      ]
    },
    {
      "cell_type": "code",
      "execution_count": null,
      "id": "c6f761a0",
      "metadata": {
        "id": "c6f761a0"
      },
      "outputs": [],
      "source": [
        "def printResults(model_name, y_test, predictions):\n",
        "    meanSquaredError = mean_squared_error(y_test, predictions)\n",
        "    rootMeanSquaredError = sqrt(meanSquaredError)\n",
        "    absolute_error = mean_absolute_error(y_test, predictions)\n",
        "    r2 = r2_score(y_test, predictions)\n",
        "    mape = mean_absolute_percentage_error(y_test, predictions)\n",
        "\n",
        "    print (\"\\nResultados: \", model_name)\n",
        "    print(\"RMSE: \", round(rootMeanSquaredError, 4))\n",
        "    print(\"r2: \", round(r2, 4))\n",
        "    print(\"MAPE: \", round(mape*100, 4), \"%\")"
      ]
    },
    {
      "attachments": {},
      "cell_type": "markdown",
      "id": "4e2a602f",
      "metadata": {
        "id": "4e2a602f"
      },
      "source": [
        "Folds para validación cruzada"
      ]
    },
    {
      "cell_type": "code",
      "execution_count": null,
      "id": "fd0f7019",
      "metadata": {
        "id": "fd0f7019"
      },
      "outputs": [],
      "source": [
        "n_folds = 5"
      ]
    },
    {
      "attachments": {},
      "cell_type": "markdown",
      "id": "9755155f",
      "metadata": {
        "id": "9755155f"
      },
      "source": [
        "## 1. Regresión lineal"
      ]
    },
    {
      "cell_type": "code",
      "execution_count": null,
      "id": "ed1f3ccf",
      "metadata": {
        "id": "ed1f3ccf"
      },
      "outputs": [],
      "source": [
        "def createModelLinearRegression(y_train, y_test, train_features, test_features):\n",
        "    start_time = time.time()\n",
        "\n",
        "    lr = LinearRegression()\n",
        "    lr.fit(train_features, y_train)\n",
        "    predictions_lr = lr.predict(test_features)\n",
        "\n",
        "    end_time = time.time()\n",
        "\n",
        "    printResults('Regresión Lineal', y_test, predictions_lr)\n",
        "    print('Tiempo de ejecución: ', round(end_time-start_time, 4))"
      ]
    },
    {
      "attachments": {},
      "cell_type": "markdown",
      "id": "a3977c0c",
      "metadata": {
        "id": "a3977c0c"
      },
      "source": [
        "#### Sin selección de características"
      ]
    },
    {
      "cell_type": "code",
      "execution_count": null,
      "id": "3767ddbb",
      "metadata": {
        "colab": {
          "base_uri": "https://localhost:8080/"
        },
        "id": "3767ddbb",
        "outputId": "f79fbb00-4811-4c74-d763-b0bf15e7e3c1"
      },
      "outputs": [
        {
          "name": "stdout",
          "output_type": "stream",
          "text": [
            "\n",
            "Resultados:  Regresión Lineal\n",
            "RMSE:  3378.2405\n",
            "r2:  0.8751\n",
            "MAPE:  20.3494 %\n",
            "Tiempo de ejecución:  0.0851\n"
          ]
        }
      ],
      "source": [
        "createModelLinearRegression(y_train, y_test, train_features, test_features)"
      ]
    },
    {
      "attachments": {},
      "cell_type": "markdown",
      "id": "b3a18ce8",
      "metadata": {
        "id": "b3a18ce8"
      },
      "source": [
        "#### Con selección de características (elimino variable Provincia)"
      ]
    },
    {
      "cell_type": "code",
      "execution_count": null,
      "id": "513ecd9f",
      "metadata": {
        "colab": {
          "base_uri": "https://localhost:8080/"
        },
        "id": "513ecd9f",
        "outputId": "ba268e2a-cdaa-40a0-e4b0-5067adb685f1"
      },
      "outputs": [
        {
          "name": "stdout",
          "output_type": "stream",
          "text": [
            "\n",
            "Resultados:  Regresión Lineal\n",
            "RMSE:  3383.5442\n",
            "r2:  0.8747\n",
            "MAPE:  20.5294 %\n",
            "Tiempo de ejecución:  0.0225\n"
          ]
        }
      ],
      "source": [
        "createModelLinearRegression(y_train, y_test, train_features_2, test_features_2)"
      ]
    },
    {
      "attachments": {},
      "cell_type": "markdown",
      "id": "3a876aa9",
      "metadata": {
        "id": "3a876aa9"
      },
      "source": [
        "#### Con selección de características (elimino variable Provincia, Tipo, Puertas y Color)"
      ]
    },
    {
      "attachments": {},
      "cell_type": "markdown",
      "id": "c77754b3",
      "metadata": {
        "id": "c77754b3"
      },
      "source": [
        "## 2. Ridge Regression"
      ]
    },
    {
      "cell_type": "code",
      "execution_count": null,
      "id": "d6261c66",
      "metadata": {
        "id": "d6261c66"
      },
      "outputs": [],
      "source": [
        "def createModelRidgeRegression(y_train, y_test, train_features, test_features):\n",
        "\n",
        "    start_time = time.time()\n",
        "\n",
        "    ridge = Ridge()\n",
        "\n",
        "    params = {\"alpha\": [0.001, 0.01, 0.1, 1, 10, 100]}\n",
        "\n",
        "    grid = GridSearchCV(ridge, param_grid=params, scoring='r2')\n",
        "    grid.fit(train_features, y_train)\n",
        "\n",
        "    ridge = Ridge(grid.best_params_['alpha'])\n",
        "    ridge.fit(train_features, y_train)\n",
        "    predictions_rr = ridge.predict(test_features)\n",
        "\n",
        "    end_time = time.time()\n",
        "\n",
        "    print('Ridge Regression - mejores parámetros: ', grid.best_params_)\n",
        "    printResults('Ridge Regression', y_test, predictions_rr)\n",
        "\n",
        "    print('Tiempo de ejecución: ', round(end_time-start_time, 4))\n",
        "\n",
        "    return grid"
      ]
    },
    {
      "attachments": {},
      "cell_type": "markdown",
      "id": "b2c53b77",
      "metadata": {
        "id": "b2c53b77"
      },
      "source": [
        "#### Sin selección de características"
      ]
    },
    {
      "cell_type": "code",
      "execution_count": null,
      "id": "8266ddf7",
      "metadata": {
        "colab": {
          "base_uri": "https://localhost:8080/"
        },
        "id": "8266ddf7",
        "outputId": "35840da0-e41c-4f9f-caa8-9b0bdd8594ef"
      },
      "outputs": [
        {
          "name": "stdout",
          "output_type": "stream",
          "text": [
            "Ridge Regression - mejores parámetros:  {'alpha': 10}\n",
            "\n",
            "Resultados:  Ridge Regression\n",
            "RMSE:  3373.0417\n",
            "r2:  0.8755\n",
            "MAPE:  20.4056 %\n",
            "Tiempo de ejecución:  1.0644\n"
          ]
        }
      ],
      "source": [
        "grid_rr = createModelRidgeRegression(y_train, y_test, train_features, test_features)"
      ]
    },
    {
      "attachments": {},
      "cell_type": "markdown",
      "id": "b5380eea",
      "metadata": {
        "id": "b5380eea"
      },
      "source": [
        "#### Con selección de características (elimino variable Provincia)"
      ]
    },
    {
      "cell_type": "code",
      "execution_count": null,
      "id": "a61a5d84",
      "metadata": {
        "colab": {
          "base_uri": "https://localhost:8080/"
        },
        "id": "a61a5d84",
        "outputId": "216185be-b72e-4f39-f0dc-cd25ba28e297"
      },
      "outputs": [
        {
          "name": "stdout",
          "output_type": "stream",
          "text": [
            "Ridge Regression - mejores parámetros:  {'alpha': 10}\n",
            "\n",
            "Resultados:  Ridge Regression\n",
            "RMSE:  3383.8698\n",
            "r2:  0.8747\n",
            "MAPE:  20.5076 %\n",
            "Tiempo de ejecución:  0.7814\n"
          ]
        }
      ],
      "source": [
        "_ = createModelRidgeRegression(y_train, y_test, train_features_2, test_features_2)"
      ]
    },
    {
      "attachments": {},
      "cell_type": "markdown",
      "id": "d1b011e3",
      "metadata": {
        "id": "d1b011e3"
      },
      "source": [
        "### El mejor modelo es aquel que contine todas las variables"
      ]
    },
    {
      "cell_type": "code",
      "execution_count": null,
      "id": "pEbCuTiBxQZz",
      "metadata": {
        "colab": {
          "base_uri": "https://localhost:8080/",
          "height": 363
        },
        "id": "pEbCuTiBxQZz",
        "outputId": "76ee0d58-a849-467e-a6f1-9b1a6369b8e5"
      },
      "outputs": [
        {
          "data": {
            "image/png": "[encoded data removed]",
            "text/plain": [
              "<Figure size 2000x500 with 1 Axes>"
            ]
          },
          "metadata": {},
          "output_type": "display_data"
        }
      ],
      "source": [
        "_= plt.figure(figsize=(20,5))\n",
        "scores_test = np.array(grid_rr.cv_results_['mean_test_score'])\n",
        "plt.plot([0.001, 0.01, 0.1, 1, 10, 100], scores_test, '-o')\n",
        "plt.xlabel('alpha', fontsize=16)\n",
        "plt.ylabel('R2')\n",
        "plt.grid(True)\n",
        "plt.show()"
      ]
    },
    {
      "attachments": {},
      "cell_type": "markdown",
      "id": "66d91f86",
      "metadata": {
        "id": "66d91f86"
      },
      "source": [
        "## 3. Árbol de regresión"
      ]
    },
    {
      "cell_type": "code",
      "execution_count": null,
      "id": "1c892539",
      "metadata": {
        "id": "1c892539"
      },
      "outputs": [],
      "source": [
        "def createModelDecisionTree(y_train, y_test, train_features, test_features):\n",
        "    start_time = time.time()\n",
        "\n",
        "    dt = DecisionTreeRegressor(random_state=0)\n",
        "\n",
        "    params = {\"max_depth\": range(1, 15),\n",
        "              \"criterion\": ['squared_error', 'friedman_mse', 'absolute_error', 'poisson']}\n",
        "\n",
        "    grid = GridSearchCV(dt, param_grid=params, scoring='r2', cv=n_folds, return_train_score=True)\n",
        "    grid.fit(train_features, y_train)\n",
        "\n",
        "    best_model_dt = grid.best_estimator_\n",
        "    predictions_dt = best_model_dt.predict(test_features)\n",
        "\n",
        "    end_time = time.time()\n",
        "\n",
        "    print('Arbol de regresión - mejores parámetros: ', grid.best_params_)\n",
        "    printResults('Árbol de regresión', y_test, predictions_dt)\n",
        "    print('Tiempo de ejecución: ', round(end_time-start_time, 4))\n",
        "\n",
        "    return grid"
      ]
    },
    {
      "attachments": {},
      "cell_type": "markdown",
      "id": "e1d23541",
      "metadata": {
        "id": "e1d23541"
      },
      "source": [
        "#### Sin selección de características"
      ]
    },
    {
      "cell_type": "code",
      "execution_count": null,
      "id": "bd313319",
      "metadata": {
        "colab": {
          "base_uri": "https://localhost:8080/"
        },
        "id": "bd313319",
        "outputId": "34e5b304-322b-4442-ede8-0d4f435d3a6f"
      },
      "outputs": [
        {
          "name": "stdout",
          "output_type": "stream",
          "text": [
            "Arbol de regresión - mejores parámetros:  {'criterion': 'poisson', 'max_depth': 10}\n",
            "\n",
            "Resultados:  Árbol de regresión\n",
            "RMSE:  2488.4511\n",
            "r2:  0.9182\n",
            "MAPE:  10.8317 \n",
            "Tiempo de ejecución:  107.6747\n"
          ]
        }
      ],
      "source": [
        "_ = createModelDecisionTree(y_train, y_test, train_features, test_features)"
      ]
    },
    {
      "attachments": {},
      "cell_type": "markdown",
      "id": "84376ebe",
      "metadata": {
        "id": "84376ebe"
      },
      "source": [
        "#### Con selección de características (elimino variable Provincia)"
      ]
    },
    {
      "cell_type": "code",
      "execution_count": null,
      "id": "2e159223",
      "metadata": {
        "colab": {
          "base_uri": "https://localhost:8080/"
        },
        "id": "2e159223",
        "outputId": "5b1ec25e-4de5-4dc8-c31b-5600e6473b60"
      },
      "outputs": [
        {
          "name": "stdout",
          "output_type": "stream",
          "text": [
            "Arbol de regresión - mejores parámetros:  {'criterion': 'poisson', 'max_depth': 8}\n",
            "\n",
            "Resultados:  Árbol de regresión\n",
            "RMSE:  2589.5626\n",
            "r2:  0.9266\n",
            "MAPE:  10.5228 %\n",
            "Tiempo de ejecución:  61.8911\n"
          ]
        }
      ],
      "source": [
        "_ = createModelDecisionTree(y_train, y_test, train_features_2, test_features_2)"
      ]
    },
    {
      "attachments": {},
      "cell_type": "markdown",
      "id": "3f25e214",
      "metadata": {
        "id": "3f25e214"
      },
      "source": [
        "#### Con selección de características (elimino variable Provincia, Tipo, Puertas y Color)"
      ]
    },
    {
      "cell_type": "code",
      "execution_count": null,
      "id": "e07cf395",
      "metadata": {
        "colab": {
          "base_uri": "https://localhost:8080/"
        },
        "id": "e07cf395",
        "outputId": "150a5874-e7ed-4461-e459-f43eef60a5a5"
      },
      "outputs": [
        {
          "name": "stdout",
          "output_type": "stream",
          "text": [
            "Arbol de regresión - mejores parámetros:  {'criterion': 'poisson', 'max_depth': 10}\n",
            "\n",
            "Resultados:  Árbol de regresión\n",
            "RMSE:  2469.6636\n",
            "r2:  0.9332\n",
            "MAPE:  9.9962 %\n",
            "Tiempo de ejecución:  43.0761\n"
          ]
        }
      ],
      "source": [
        "grid_dt = createModelDecisionTree(y_train, y_test, train_features_3, test_features_3)"
      ]
    },
    {
      "attachments": {},
      "cell_type": "markdown",
      "id": "muOLJcwi7lgE",
      "metadata": {
        "id": "muOLJcwi7lgE"
      },
      "source": [
        "#### Influencia de max_depth en R2"
      ]
    },
    {
      "cell_type": "code",
      "execution_count": null,
      "id": "0qiFxU_K7hlh",
      "metadata": {
        "colab": {
          "base_uri": "https://localhost:8080/",
          "height": 456
        },
        "id": "0qiFxU_K7hlh",
        "outputId": "b42e2ec9-1fdb-4532-bb65-83569bb9bdee"
      },
      "outputs": [
        {
          "data": {
            "image/png": "[encoded data removed]",
            "text/plain": [
              "<Figure size 640x480 with 1 Axes>"
            ]
          },
          "metadata": {},
          "output_type": "display_data"
        }
      ],
      "source": [
        "dt = DecisionTreeRegressor(random_state=0)\n",
        "params = {\"max_depth\": range(1, 15),\n",
        "          \"criterion\": ['poisson']}\n",
        "\n",
        "grid = GridSearchCV(dt, param_grid=params, scoring='r2', cv=n_folds, return_train_score=True)\n",
        "grid.fit(train_features, y_train)\n",
        "\n",
        "scores_test = np.array(grid.cv_results_['mean_test_score'])\n",
        "scores_train = np.array(grid.cv_results_['mean_train_score'])\n",
        "plt.plot(range(1,15), scores_test, '-o', label='Validación')\n",
        "plt.plot(range(1,15), scores_train, '-o', label='Entrenamiento')\n",
        "plt.xlabel('max_depth', fontsize=16)\n",
        "plt.ylabel('R2'.format(n_folds))\n",
        "plt.legend(loc='best')\n",
        "plt.show()"
      ]
    },
    {
      "attachments": {},
      "cell_type": "markdown",
      "id": "1ce7763f",
      "metadata": {
        "id": "1ce7763f"
      },
      "source": [
        "## 4. Random Forest"
      ]
    },
    {
      "cell_type": "code",
      "execution_count": null,
      "id": "205d8f98",
      "metadata": {
        "id": "205d8f98"
      },
      "outputs": [],
      "source": [
        "def createModelRandomForest(y_train, y_test, train_features, test_features):\n",
        "    start_time = time.time()\n",
        "\n",
        "    rf = RandomForestRegressor(random_state=0, n_estimators=100)\n",
        "    params = {\"max_depth\": range(1, 15),\n",
        "              \"criterion\": ['squared_error', 'friedman_mse', 'absolute_error', 'poisson']}\n",
        "\n",
        "    grid = GridSearchCV(rf, param_grid=params, scoring='r2', return_train_score=True)\n",
        "    grid.fit(train_features, y_train)\n",
        "\n",
        "    best_model_rf = grid.best_estimator_\n",
        "    predictions_rf = best_model_rf.predict(test_features)\n",
        "\n",
        "    end_time = time.time()\n",
        "\n",
        "    print('Random Forest - mejores parámetros: ', grid.best_params_)\n",
        "    printResults('Random Forest', y_test, predictions_rf)\n",
        "    print('Tiempo de ejecución: ', round(end_time-start_time, 4))\n",
        "\n",
        "    return grid"
      ]
    },
    {
      "attachments": {},
      "cell_type": "markdown",
      "id": "b615a053",
      "metadata": {
        "id": "b615a053"
      },
      "source": [
        "#### Sin selección de características"
      ]
    },
    {
      "cell_type": "code",
      "execution_count": null,
      "id": "39156bf4",
      "metadata": {
        "colab": {
          "base_uri": "https://localhost:8080/"
        },
        "id": "39156bf4",
        "outputId": "c22bacf5-237c-4583-b212-9769b19f8a5e"
      },
      "outputs": [
        {
          "name": "stdout",
          "output_type": "stream",
          "text": [
            "Random Forest - mejores parámetros:  {'criterion': 'absolute_error', 'max_depth': 14}\n",
            "\n",
            "Resultados:  Random Forest\n",
            "RMSE:  2119.836\n",
            "r2:  0.9506\n",
            "MAPE:  8.2876 %\n",
            "Tiempo de ejecución:  4388.6254\n"
          ]
        }
      ],
      "source": [
        "_ = createModelRandomForest(y_train, y_test, train_features, test_features)"
      ]
    },
    {
      "attachments": {},
      "cell_type": "markdown",
      "id": "03ecec21",
      "metadata": {
        "id": "03ecec21"
      },
      "source": [
        "#### Con selección de características (elimino variable Provincia)"
      ]
    },
    {
      "cell_type": "code",
      "execution_count": null,
      "id": "185f66ff",
      "metadata": {
        "colab": {
          "base_uri": "https://localhost:8080/"
        },
        "id": "185f66ff",
        "outputId": "df47d37d-9a53-4212-8d71-42e0bcdc68e3"
      },
      "outputs": [
        {
          "name": "stdout",
          "output_type": "stream",
          "text": [
            "Random Forest - mejores parámetros:  {'criterion': 'absolute_error', 'max_depth': 14}\n",
            "\n",
            "Resultados:  Random Forest\n",
            "RMSE:  2119.836\n",
            "r2:  0.9507\n",
            "MAPE:  8.2746 %\n",
            "Tiempo de ejecución:  2544.6752\n"
          ]
        }
      ],
      "source": [
        "_ = createModelRandomForest(y_train, y_test, train_features_2, test_features_2)"
      ]
    },
    {
      "attachments": {},
      "cell_type": "markdown",
      "id": "69176cda",
      "metadata": {
        "id": "69176cda"
      },
      "source": [
        "#### Con selección de características (elimino variable Provincia, Tipo, Puertas y Color)"
      ]
    },
    {
      "cell_type": "code",
      "execution_count": null,
      "id": "0cf50ee4",
      "metadata": {
        "colab": {
          "base_uri": "https://localhost:8080/"
        },
        "id": "0cf50ee4",
        "outputId": "f2d901a0-749b-4dd6-f7ea-7b88344dad44"
      },
      "outputs": [
        {
          "name": "stdout",
          "output_type": "stream",
          "text": [
            "Random Forest - mejores parámetros:  {'criterion': 'squared_error', 'max_depth': 12}\n",
            "\n",
            "Resultados:  Random Forest\n",
            "RMSE:  2118.1908\n",
            "r2:  0.9508\n",
            "MAPE:  8.2568 %\n",
            "Tiempo de ejecución:  1828.9884\n"
          ]
        }
      ],
      "source": [
        "grid_rf = createModelRandomForest(y_train, y_test, train_features_3, test_features_3)"
      ]
    },
    {
      "attachments": {},
      "cell_type": "markdown",
      "id": "lV6j4jx0twWL",
      "metadata": {
        "id": "lV6j4jx0twWL"
      },
      "source": [
        "Influencia de max_depth en R2"
      ]
    },
    {
      "cell_type": "code",
      "execution_count": null,
      "id": "KbpPeY2stwu9",
      "metadata": {
        "colab": {
          "base_uri": "https://localhost:8080/",
          "height": 456
        },
        "id": "KbpPeY2stwu9",
        "outputId": "85366f89-9469-433b-8a77-e29bd4834028"
      },
      "outputs": [
        {
          "data": {
            "image/png": "[encoded data removed]",
            "text/plain": [
              "<Figure size 640x480 with 1 Axes>"
            ]
          },
          "metadata": {},
          "output_type": "display_data"
        }
      ],
      "source": [
        "rf = RandomForestRegressor(random_state=0)\n",
        "params = {\"max_depth\": range(1,15),\n",
        "          \"criterion\": ['squared_error']}\n",
        "\n",
        "grid = GridSearchCV(rf, param_grid=params, scoring='r2', cv=n_folds, return_train_score=True)\n",
        "grid.fit(train_features, y_train)\n",
        "\n",
        "scores_test = np.array(grid.cv_results_['mean_test_score'])\n",
        "scores_train = np.array(grid.cv_results_['mean_train_score'])\n",
        "plt.plot(range(1,15), scores_test, '-o', label='Validación')\n",
        "plt.plot(range(1,15), scores_train, '-o', label='Entrenamiento')\n",
        "plt.xlabel('max_depth', fontsize=16)\n",
        "plt.ylabel('R2'.format(n_folds))\n",
        "plt.legend(loc='best')\n",
        "plt.show()"
      ]
    },
    {
      "attachments": {},
      "cell_type": "markdown",
      "id": "b54dc4d6",
      "metadata": {
        "id": "b54dc4d6"
      },
      "source": [
        "## 5. SVM"
      ]
    },
    {
      "cell_type": "code",
      "execution_count": null,
      "id": "a0a912b5",
      "metadata": {
        "id": "a0a912b5"
      },
      "outputs": [],
      "source": [
        "def createModelSVM(y_train, y_test, train_features, test_features):\n",
        "    start_time = time.time()\n",
        "\n",
        "    params = {'C': [1, 10, 100],\n",
        "              'gamma': [1, 0.1, 0.01, 0.001],\n",
        "              'kernel': ['linear', 'rbf', 'sigmoid']}\n",
        "\n",
        "    svm = SVR()\n",
        "    grid = GridSearchCV(svm, param_grid=params, scoring='r2', cv=n_folds)\n",
        "    grid.fit(train_features, y_train)\n",
        "\n",
        "    best_params_svm = grid.best_params_\n",
        "    best_model_svm = grid.best_estimator_\n",
        "\n",
        "    predictions_svm = best_model_svm.predict(test_features)\n",
        "\n",
        "    end_time = time.time()\n",
        "\n",
        "    print('SVM - mejores parámetros: ', grid.best_params_)\n",
        "    printResults('SVM', y_test, predictions_svm)\n",
        "    print('Tiempo de ejecución: ', round(end_time-start_time, 4))\n",
        "\n",
        "    return grid"
      ]
    },
    {
      "attachments": {},
      "cell_type": "markdown",
      "id": "Aa4YRfcgipBY",
      "metadata": {
        "id": "Aa4YRfcgipBY"
      },
      "source": [
        "#### Sin selección de características"
      ]
    },
    {
      "cell_type": "code",
      "execution_count": null,
      "id": "jl5X-1ksip_8",
      "metadata": {
        "colab": {
          "base_uri": "https://localhost:8080/"
        },
        "id": "jl5X-1ksip_8",
        "outputId": "adbc28bb-2a1d-4130-9266-207774b14a77"
      },
      "outputs": [
        {
          "name": "stdout",
          "output_type": "stream",
          "text": [
            "SVM - mejores parámetros:  {'C': 100, 'gamma': 1, 'kernel': 'linear'}\n",
            "\n",
            "Resultados:  SVM\n",
            "RMSE:  3517.9983\n",
            "r2:  0.8645\n",
            "MAPE:  19.4971 %\n",
            "Tiempo de ejecución:  424.441\n"
          ]
        }
      ],
      "source": [
        "_ = createModelSVM(y_train, y_test, train_features, test_features)"
      ]
    },
    {
      "attachments": {},
      "cell_type": "markdown",
      "id": "1kJkUJ0tmALv",
      "metadata": {
        "id": "1kJkUJ0tmALv"
      },
      "source": [
        "#### Con selección de características (elimino variable Provincia)"
      ]
    },
    {
      "cell_type": "code",
      "execution_count": null,
      "id": "HcND5Bs5cBRr",
      "metadata": {
        "colab": {
          "base_uri": "https://localhost:8080/"
        },
        "id": "HcND5Bs5cBRr",
        "outputId": "558ca7e8-3c60-4fb8-8750-ebbae7346190"
      },
      "outputs": [
        {
          "name": "stdout",
          "output_type": "stream",
          "text": [
            "SVM - mejores parámetros:  {'C': 100, 'gamma': 1, 'kernel': 'linear'}\n",
            "\n",
            "Resultados:  SVM\n",
            "RMSE:  3506.9549\n",
            "r2:  0.8654\n",
            "MAPE:  19.504 %\n",
            "Tiempo de ejecución:  316.6857\n"
          ]
        }
      ],
      "source": [
        "grid_svm = createModelSVM(y_train, y_test, train_features_2, test_features_2)"
      ]
    },
    {
      "attachments": {},
      "cell_type": "markdown",
      "id": "ZUMX-51kq8RP",
      "metadata": {
        "id": "ZUMX-51kq8RP"
      },
      "source": [
        "#### Con selección de características (elimino variable Provincia, Tipo, Puertas y Color)"
      ]
    },
    {
      "cell_type": "code",
      "execution_count": null,
      "id": "ejtaVGeJqPmh",
      "metadata": {
        "colab": {
          "base_uri": "https://localhost:8080/"
        },
        "id": "ejtaVGeJqPmh",
        "outputId": "68e618c4-31ce-477d-bf00-4eef6d91ae7b"
      },
      "outputs": [
        {
          "name": "stdout",
          "output_type": "stream",
          "text": [
            "SVM - mejores parámetros:  {'C': 100, 'gamma': 1, 'kernel': 'linear'}\n",
            "\n",
            "Resultados:  SVM\n",
            "RMSE:  3530.1502\n",
            "r2:  0.8636\n",
            "MAPE:  19.6173 %\n",
            "Tiempo de ejecución:  321.219\n"
          ]
        }
      ],
      "source": [
        "_ = createModelSVM(y_train, y_test, train_features_3, test_features_3)"
      ]
    },
    {
      "attachments": {},
      "cell_type": "markdown",
      "id": "JvmE-ktkmR_4",
      "metadata": {
        "id": "JvmE-ktkmR_4"
      },
      "source": [
        "#### Influencia de C, gamma y kernel"
      ]
    },
    {
      "cell_type": "code",
      "execution_count": null,
      "id": "_t_wR7C8mVQg",
      "metadata": {
        "id": "_t_wR7C8mVQg"
      },
      "outputs": [],
      "source": [
        "results = grid_svm.cv_results_\n",
        "\n",
        "params = results['params']\n",
        "scores = results['mean_test_score']\n",
        "\n",
        "for diccionario, valor in zip(params, scores):\n",
        "    diccionario['score'] = valor\n",
        "\n",
        "#Como influye C\n",
        "diccionario1 = [diccionario for diccionario in params if diccionario.get('gamma') == 1 and diccionario.get('kernel') == 'linear']\n",
        "\n",
        "#Como influye gamma\n",
        "diccionario2 = [diccionario for diccionario in params if diccionario.get('C') == 100 and diccionario.get('kernel') == 'linear']\n",
        "\n",
        "#Como influye kernel\n",
        "diccionario3 = [diccionario for diccionario in params if diccionario.get('C') == 100 and diccionario.get('gamma') == 1]\n",
        "\n",
        "\n",
        "cost_list = [diccionario['C'] for diccionario in diccionario1]\n",
        "score_list_1  = [diccionario['score'] for diccionario in diccionario1]\n",
        "\n",
        "gamma_list = [diccionario['gamma'] for diccionario in diccionario2]\n",
        "score_list_2  = [diccionario['score'] for diccionario in diccionario2]\n",
        "\n",
        "kernel_list = [diccionario['kernel'] for diccionario in diccionario3]\n",
        "score_list_3  = [diccionario['score'] for diccionario in diccionario3]"
      ]
    },
    {
      "cell_type": "code",
      "execution_count": null,
      "id": "755T95hnmVOE",
      "metadata": {
        "colab": {
          "base_uri": "https://localhost:8080/",
          "height": 376
        },
        "id": "755T95hnmVOE",
        "outputId": "9b26facc-96cc-40f3-e39d-77071b6b756d"
      },
      "outputs": [
        {
          "data": {
            "image/png": "[encoded data removed]",
            "text/plain": [
              "<Figure size 2000x500 with 3 Axes>"
            ]
          },
          "metadata": {},
          "output_type": "display_data"
        }
      ],
      "source": [
        "_= plt.figure(figsize=(20,5))\n",
        "\n",
        "_ = plt.subplot(1,3,1)\n",
        "plt.plot(cost_list, score_list_1, marker='o')\n",
        "plt.xlabel('cost')\n",
        "plt.ylabel('R2')\n",
        "plt.title('R2 vs cost')\n",
        "plt.grid(True)\n",
        "\n",
        "_ = plt.subplot(1,3,2)\n",
        "plt.plot(gamma_list, score_list_2, marker='o')\n",
        "plt.xlabel('gamma')\n",
        "plt.ylabel('R2')\n",
        "plt.title('R2 vs gamma')\n",
        "plt.grid(True)\n",
        "\n",
        "_ = plt.subplot(1,3,3)\n",
        "plt.plot(kernel_list, score_list_3, marker='o')\n",
        "plt.xlabel('kernel')\n",
        "plt.ylabel('R2')\n",
        "plt.title('R2 vs kernel')\n",
        "plt.grid(True)\n",
        "\n",
        "plt.show()"
      ]
    },
    {
      "attachments": {},
      "cell_type": "markdown",
      "id": "462dfd79",
      "metadata": {
        "id": "462dfd79"
      },
      "source": [
        "## 6. AdaBoost Regressor"
      ]
    },
    {
      "cell_type": "code",
      "execution_count": null,
      "id": "0b3e4bdd",
      "metadata": {
        "id": "0b3e4bdd"
      },
      "outputs": [],
      "source": [
        "def createModelAdaBoost(y_train, y_test, train_features, test_features):\n",
        "    start_time = time.time()\n",
        "\n",
        "    params = {'learning_rate': [0.001, 0.01, 0.1, 1],\n",
        "              'n_estimators': [50, 100, 150, 200]}\n",
        "\n",
        "    ab = AdaBoostRegressor()\n",
        "    grid = GridSearchCV(ab, param_grid=params, scoring='r2', cv=n_folds)\n",
        "    grid.fit(train_features, y_train)\n",
        "\n",
        "    best_model_ada = grid.best_estimator_\n",
        "    predictions_ada = best_model_ada.predict(test_features)\n",
        "\n",
        "    end_time = time.time()\n",
        "\n",
        "    print('AdaBoost - mejores parámetros: ', grid.best_params_)\n",
        "    printResults('AdaBoost', y_test, predictions_ada)\n",
        "    print('Tiempo de ejecución: ', round(end_time-start_time, 4))\n",
        "\n",
        "    return grid"
      ]
    },
    {
      "attachments": {},
      "cell_type": "markdown",
      "id": "_ufKSExh8LS6",
      "metadata": {
        "id": "_ufKSExh8LS6"
      },
      "source": [
        "#### Sin selección de características"
      ]
    },
    {
      "cell_type": "code",
      "execution_count": null,
      "id": "8911f8f7",
      "metadata": {
        "colab": {
          "base_uri": "https://localhost:8080/"
        },
        "id": "8911f8f7",
        "outputId": "ed66ed04-f132-41e8-b02d-8d8e9b04653a"
      },
      "outputs": [
        {
          "name": "stdout",
          "output_type": "stream",
          "text": [
            "AdaBoost - mejores parámetros:  {'learning_rate': 0.1, 'n_estimators': 150}\n",
            "\n",
            "Resultados:  AdaBoost\n",
            "RMSE:  4030.1432\n",
            "r2:  0.8222\n",
            "MAPE:  27.5446 %\n",
            "Tiempo de ejecución:  138.221\n"
          ]
        }
      ],
      "source": [
        "_= createModelAdaBoost(y_train, y_test, train_features, test_features)"
      ]
    },
    {
      "attachments": {},
      "cell_type": "markdown",
      "id": "V8KsAxlo8QyF",
      "metadata": {
        "id": "V8KsAxlo8QyF"
      },
      "source": [
        "#### Con selección de características (elimino variable Provincia)"
      ]
    },
    {
      "cell_type": "code",
      "execution_count": null,
      "id": "R2wBq6isxYIC",
      "metadata": {
        "colab": {
          "base_uri": "https://localhost:8080/"
        },
        "id": "R2wBq6isxYIC",
        "outputId": "179ac836-8c54-4579-f258-0eff2492c707"
      },
      "outputs": [
        {
          "name": "stdout",
          "output_type": "stream",
          "text": [
            "AdaBoost - mejores parámetros:  {'learning_rate': 0.1, 'n_estimators': 150}\n",
            "\n",
            "Resultados:  AdaBoost\n",
            "RMSE:  3940.0344\n",
            "r2:  0.8301\n",
            "MAPE:  26.2902 %\n",
            "Tiempo de ejecución:  86.4498\n"
          ]
        }
      ],
      "source": [
        "grid_ab = createModelAdaBoost(y_train, y_test, train_features_2, test_features_2)"
      ]
    },
    {
      "attachments": {},
      "cell_type": "markdown",
      "id": "Cwd27zrv8S2I",
      "metadata": {
        "id": "Cwd27zrv8S2I"
      },
      "source": [
        "#### Con selección de características (elimino variable Provincia, Tipo, Puertas y Color)"
      ]
    },
    {
      "cell_type": "code",
      "execution_count": null,
      "id": "Ab8ryaCC332q",
      "metadata": {
        "colab": {
          "base_uri": "https://localhost:8080/"
        },
        "id": "Ab8ryaCC332q",
        "outputId": "721bc049-7e30-4ec7-e001-442059e152e2"
      },
      "outputs": [
        {
          "name": "stdout",
          "output_type": "stream",
          "text": [
            "AdaBoost - mejores parámetros:  {'learning_rate': 0.1, 'n_estimators': 100}\n",
            "\n",
            "Resultados:  AdaBoost\n",
            "RMSE:  3992.43\n",
            "r2:  0.8255\n",
            "MAPE:  26.8906 %\n",
            "Tiempo de ejecución:  73.2014\n"
          ]
        }
      ],
      "source": [
        "_= createModelAdaBoost(y_train, y_test, train_features_3, test_features_3)"
      ]
    },
    {
      "attachments": {},
      "cell_type": "markdown",
      "id": "Ike4o8kn91ML",
      "metadata": {
        "id": "Ike4o8kn91ML"
      },
      "source": [
        "#### Influencia de learning_rate y n_estimators"
      ]
    },
    {
      "cell_type": "code",
      "execution_count": null,
      "id": "W_D02H74330V",
      "metadata": {
        "id": "W_D02H74330V"
      },
      "outputs": [],
      "source": [
        "results = grid_ab.cv_results_\n",
        "\n",
        "params = results['params']\n",
        "scores = results['mean_test_score']\n",
        "\n",
        "for diccionario, valor in zip(params, scores):\n",
        "    diccionario['score'] = valor\n",
        "\n",
        "#Como influye learning rate\n",
        "diccionario1 = [diccionario for diccionario in params if diccionario.get('n_estimators') == 100]\n",
        "\n",
        "#Como influye n_estimators\n",
        "diccionario2 = [diccionario for diccionario in params if diccionario.get('learning_rate') == 0.1]\n",
        "\n",
        "learning_rate_list = [diccionario['learning_rate'] for diccionario in diccionario1]\n",
        "score_list_1  = [diccionario['score'] for diccionario in diccionario1]\n",
        "\n",
        "n_estimators_list = [diccionario['n_estimators'] for diccionario in diccionario2]\n",
        "score_list_2  = [diccionario['score'] for diccionario in diccionario2]"
      ]
    },
    {
      "cell_type": "code",
      "execution_count": null,
      "id": "aavcYZ94xYCR",
      "metadata": {
        "colab": {
          "base_uri": "https://localhost:8080/",
          "height": 487
        },
        "id": "aavcYZ94xYCR",
        "outputId": "625d61d6-f344-4b22-a5c8-a5ca625feee0"
      },
      "outputs": [
        {
          "data": {
            "image/png": "[encoded data removed]",
            "text/plain": [
              "<Figure size 1500x500 with 2 Axes>"
            ]
          },
          "metadata": {},
          "output_type": "display_data"
        }
      ],
      "source": [
        "_= plt.figure(figsize=(15,5))\n",
        "\n",
        "_ = plt.subplot(1,2,1)\n",
        "plt.plot(n_estimators_list, score_list_1, marker='o')\n",
        "plt.xlabel('learning_rate')\n",
        "plt.ylabel('R2')\n",
        "plt.title('R2 vs learning_rate')\n",
        "plt.grid(True)\n",
        "\n",
        "_ = plt.subplot(1,2,2)\n",
        "plt.plot(learning_rate_list, score_list_2, marker='o')\n",
        "plt.xlabel('n_estimators')\n",
        "plt.ylabel('R2')\n",
        "plt.title('R2 vs n_estimators')\n",
        "plt.grid(True)\n",
        "\n",
        "plt.show()"
      ]
    },
    {
      "attachments": {},
      "cell_type": "markdown",
      "id": "23b9e802",
      "metadata": {
        "id": "23b9e802"
      },
      "source": [
        "## 7. LGBM Regressor"
      ]
    },
    {
      "cell_type": "code",
      "execution_count": null,
      "id": "KZan294uf1Az",
      "metadata": {
        "id": "KZan294uf1Az"
      },
      "outputs": [],
      "source": [
        "def createModelLGBM(y_train, y_test, train_features, test_features):\n",
        "    start_time = time.time()\n",
        "\n",
        "    params = {\n",
        "          'num_leaves': [10, 20, 30],\n",
        "          'learning_rate': [0.1, 0.01, 0.001],\n",
        "          'max_depth': [5, 10, 15, 20]\n",
        "        }\n",
        "\n",
        "    lgbm = lgb.LGBMRegressor()\n",
        "\n",
        "    grid_search = GridSearchCV(estimator=lgbm, param_grid=params, cv=n_folds, scoring='r2')\n",
        "    grid_search.fit(train_features, y_train)\n",
        "\n",
        "    best_params_lgbm = grid_search.best_params_\n",
        "    best_model_lgbm = grid_search.best_estimator_\n",
        "\n",
        "    predictions_lgbm = best_model_lgbm.predict(test_features)\n",
        "\n",
        "    end_time = time.time()\n",
        "\n",
        "    print('LGBM Regressor: ', best_params_lgbm)\n",
        "    printResults('LGBM Regressor', y_test, predictions_lgbm)\n",
        "    print('Tiempo de ejecución: ', round(end_time-start_time, 4))\n",
        "\n",
        "    return grid_search"
      ]
    },
    {
      "attachments": {},
      "cell_type": "markdown",
      "id": "r13F3f6ch4SK",
      "metadata": {
        "id": "r13F3f6ch4SK"
      },
      "source": [
        "#### Sin selección de características"
      ]
    },
    {
      "cell_type": "code",
      "execution_count": null,
      "id": "9iZfResbhLLv",
      "metadata": {
        "colab": {
          "base_uri": "https://localhost:8080/"
        },
        "id": "9iZfResbhLLv",
        "outputId": "f12795b5-85d6-4e31-eba4-478e510eb0ad"
      },
      "outputs": [
        {
          "name": "stdout",
          "output_type": "stream",
          "text": [
            "LGBM Regressor:  {'learning_rate': 0.1, 'max_depth': 20, 'num_leaves': 30}\n",
            "\n",
            "Resultados:  LGBM Regressor\n",
            "RMSE:  2017.4733\n",
            "r2:  0.9554\n",
            "MAPE:  7.9697 %\n",
            "Tiempo de ejecución:  27.459\n"
          ]
        }
      ],
      "source": [
        "grid_lgbm = createModelLGBM(y_train, y_test, train_features, test_features)"
      ]
    },
    {
      "attachments": {},
      "cell_type": "markdown",
      "id": "XLeYauwFaCEm",
      "metadata": {
        "id": "XLeYauwFaCEm"
      },
      "source": [
        "#### Con selección de características (elimino variable Provincia)"
      ]
    },
    {
      "cell_type": "code",
      "execution_count": null,
      "id": "NO3L1-f6FwO_",
      "metadata": {
        "colab": {
          "base_uri": "https://localhost:8080/"
        },
        "id": "NO3L1-f6FwO_",
        "outputId": "adc6e4a0-6033-48e5-c180-64f122204d2b"
      },
      "outputs": [
        {
          "name": "stdout",
          "output_type": "stream",
          "text": [
            "LGBM Regressor:  {'learning_rate': 0.1, 'max_depth': 15, 'num_leaves': 30}\n",
            "\n",
            "Resultados:  LGBM Regressor\n",
            "RMSE:  2032.2904\n",
            "r2:  0.9548\n",
            "MAPE:  8.0696 %\n",
            "Tiempo de ejecución:  25.3681\n"
          ]
        }
      ],
      "source": [
        "_ = createModelLGBM(y_train, y_test, train_features_2, test_features_2)"
      ]
    },
    {
      "attachments": {},
      "cell_type": "markdown",
      "id": "3xeP80ZaaEcM",
      "metadata": {
        "id": "3xeP80ZaaEcM"
      },
      "source": [
        "#### Observación de la influencia de los parámetros en los valores de R2"
      ]
    },
    {
      "cell_type": "code",
      "execution_count": null,
      "id": "KzhbR3CkTnmp",
      "metadata": {
        "id": "KzhbR3CkTnmp"
      },
      "outputs": [],
      "source": [
        "results = grid_lgbm.cv_results_\n",
        "\n",
        "params = results['params']\n",
        "scores = results['mean_test_score']\n",
        "\n",
        "for diccionario, valor in zip(params, scores):\n",
        "    diccionario['score'] = valor\n",
        "\n",
        "#Como influye learning rate\n",
        "diccionario1 = [diccionario for diccionario in params if diccionario.get('max_depth') == 20 and diccionario.get('num_leaves') == 30]\n",
        "\n",
        "#Como influye max_depth\n",
        "diccionario2 = [diccionario for diccionario in params if diccionario.get('num_leaves') == 30 and diccionario.get('learning_rate') == 0.1]\n",
        "\n",
        "#Como influye num_leaves\n",
        "diccionario3 = [diccionario for diccionario in params if diccionario.get('max_depth') == 20 and diccionario.get('learning_rate') == 0.1]"
      ]
    },
    {
      "cell_type": "code",
      "execution_count": null,
      "id": "nMbXDZvVVgAI",
      "metadata": {
        "id": "nMbXDZvVVgAI"
      },
      "outputs": [],
      "source": [
        "learning_rate_list = [diccionario['learning_rate'] for diccionario in diccionario1]\n",
        "score_list_1  = [diccionario['score'] for diccionario in diccionario1]\n",
        "\n",
        "max_depth_list = [diccionario['max_depth'] for diccionario in diccionario2]\n",
        "score_list_2  = [diccionario['score'] for diccionario in diccionario2]\n",
        "\n",
        "num_leaves_list = [diccionario['num_leaves'] for diccionario in diccionario3]\n",
        "score_list_3  = [diccionario['score'] for diccionario in diccionario3]"
      ]
    },
    {
      "cell_type": "code",
      "execution_count": null,
      "id": "B3q4bn4eWrLn",
      "metadata": {
        "colab": {
          "base_uri": "https://localhost:8080/",
          "height": 381
        },
        "id": "B3q4bn4eWrLn",
        "outputId": "342c211c-d515-4895-9ad2-698c974c0146"
      },
      "outputs": [
        {
          "data": {
            "image/png": "[encoded data removed]",
            "text/plain": [
              "<Figure size 2000x500 with 3 Axes>"
            ]
          },
          "metadata": {},
          "output_type": "display_data"
        }
      ],
      "source": [
        "_= plt.figure(figsize=(20,5))\n",
        "\n",
        "_ = plt.subplot(1,3,1)\n",
        "plt.plot(learning_rate_list, score_list_1, marker='o')\n",
        "plt.xlabel('learning_rate')\n",
        "plt.ylabel('R2')\n",
        "plt.title('R2 vs learning_rate')\n",
        "plt.grid(True)\n",
        "\n",
        "_ = plt.subplot(1,3,2)\n",
        "plt.plot(max_depth_list, score_list_2, marker='o')\n",
        "plt.xlabel('max_depth')\n",
        "plt.ylabel('R2')\n",
        "plt.title('R2 vs max_depth')\n",
        "plt.grid(True)\n",
        "\n",
        "_ = plt.subplot(1,3,3)\n",
        "plt.plot(num_leaves_list, score_list_3, marker='o')\n",
        "plt.xlabel('num_leaves')\n",
        "plt.ylabel('R2')\n",
        "plt.title('R2 vs num_leaves')\n",
        "plt.grid(True)\n",
        "\n",
        "plt.show()"
      ]
    },
    {
      "attachments": {},
      "cell_type": "markdown",
      "id": "eb7931d5",
      "metadata": {
        "id": "eb7931d5"
      },
      "source": [
        "## 8. XGB Regressor"
      ]
    },
    {
      "cell_type": "code",
      "execution_count": null,
      "id": "2a974fe3",
      "metadata": {
        "id": "2a974fe3"
      },
      "outputs": [],
      "source": [
        "def createModelXGB(y_train, y_test, train_features, test_features):\n",
        "    start_time = time.time()\n",
        "\n",
        "    estimator = xgb.XGBRegressor()\n",
        "    params = {\n",
        "        'max_depth': range (1, 11),\n",
        "        'n_estimators': range(60, 220, 40),\n",
        "        #'learning_rate': [0.01, 0.05, 0.1]\n",
        "        'learning_rate': [0.1]\n",
        "    }\n",
        "\n",
        "    grid = GridSearchCV(estimator, param_grid=params, scoring='r2', cv=n_folds)\n",
        "\n",
        "    grid.fit(train_features, y_train)\n",
        "\n",
        "    best_params_xgb = grid.best_params_\n",
        "    best_model_xgb = grid.best_estimator_\n",
        "\n",
        "    predictions_xgb = best_model_xgb.predict(test_features)\n",
        "\n",
        "    end_time = time.time()\n",
        "\n",
        "    print('XGBoost - mejores parámetros: ', best_params_xgb)\n",
        "    printResults('XGBoost', y_test, predictions_xgb)\n",
        "    print('Tiempo de ejecución: ', round(end_time-start_time, 4))\n",
        "\n",
        "    return grid"
      ]
    },
    {
      "cell_type": "code",
      "execution_count": null,
      "id": "4cca9f67",
      "metadata": {
        "colab": {
          "base_uri": "https://localhost:8080/"
        },
        "id": "4cca9f67",
        "outputId": "894eb220-8af3-4293-c1ea-e7282be36d96"
      },
      "outputs": [
        {
          "name": "stdout",
          "output_type": "stream",
          "text": [
            "XGBoost - mejores parámetros:  {'learning_rate': 0.1, 'max_depth': 5, 'n_estimators': 180}\n",
            "\n",
            "Resultados:  XGBoost\n",
            "RMSE:  2019.135\n",
            "r2:  0.9554\n",
            "MAPE:  8.3112 %\n",
            "Tiempo de ejecución:  1054.5318\n"
          ]
        }
      ],
      "source": [
        "grid_xgb = createModelXGB(y_train, y_test, train_features, test_features)"
      ]
    },
    {
      "attachments": {},
      "cell_type": "markdown",
      "id": "IpGFVNECWy_m",
      "metadata": {
        "id": "IpGFVNECWy_m"
      },
      "source": [
        "#### Con selección de características (elimino variable Provincia)"
      ]
    },
    {
      "cell_type": "code",
      "execution_count": null,
      "id": "3qe1VAyel3cI",
      "metadata": {
        "colab": {
          "base_uri": "https://localhost:8080/"
        },
        "id": "3qe1VAyel3cI",
        "outputId": "bf8a9894-9f78-46a6-f4ba-7c276868b5f5"
      },
      "outputs": [
        {
          "name": "stdout",
          "output_type": "stream",
          "text": [
            "XGBoost - mejores parámetros:  {'learning_rate': 0.1, 'max_depth': 5, 'n_estimators': 140}\n",
            "\n",
            "Resultados:  XGBoost\n",
            "RMSE:  1973.1257\n",
            "r2:  0.9574\n",
            "MAPE:  8.2602 %\n",
            "Tiempo de ejecución:  623.9305\n"
          ]
        }
      ],
      "source": [
        "grid_xgb = createModelXGB(y_train, y_test, train_features_2, test_features_2)"
      ]
    },
    {
      "attachments": {},
      "cell_type": "markdown",
      "id": "XdurDC5ivBUB",
      "metadata": {
        "id": "XdurDC5ivBUB"
      },
      "source": [
        "#### Con selección de características (elimino variable Provincia, Tipo, Puertas y Color)"
      ]
    },
    {
      "cell_type": "code",
      "execution_count": null,
      "id": "qE-mm_IRtaAY",
      "metadata": {
        "colab": {
          "base_uri": "https://localhost:8080/"
        },
        "id": "qE-mm_IRtaAY",
        "outputId": "13a25d37-7f6b-4572-a542-09b089d220a6"
      },
      "outputs": [
        {
          "name": "stdout",
          "output_type": "stream",
          "text": [
            "XGBoost - mejores parámetros:  {'learning_rate': 0.1, 'max_depth': 5, 'n_estimators': 180}\n",
            "\n",
            "Resultados:  XGBoost\n",
            "RMSE:  1993.8775\n",
            "r2:  0.9565\n",
            "MAPE:  8.2928 %\n",
            "Tiempo de ejecución:  382.452\n"
          ]
        }
      ],
      "source": [
        "_ = createModelXGB(y_train, y_test, train_features_3, test_features_3)"
      ]
    },
    {
      "attachments": {},
      "cell_type": "markdown",
      "id": "LO_lFkHLW6OZ",
      "metadata": {
        "id": "LO_lFkHLW6OZ"
      },
      "source": [
        "Influencia de los hiperparámetros en los valores de R2"
      ]
    },
    {
      "cell_type": "code",
      "execution_count": null,
      "id": "k5Mci2x7W2c9",
      "metadata": {
        "id": "k5Mci2x7W2c9"
      },
      "outputs": [],
      "source": [
        "results = grid_xgb.cv_results_\n",
        "\n",
        "params = results['params']\n",
        "scores = results['mean_test_score']\n",
        "\n",
        "for diccionario, valor in zip(params, scores):\n",
        "    diccionario['score'] = valor\n",
        "\n",
        "#Como influye learning rate\n",
        "diccionario1 = [diccionario for diccionario in params if diccionario.get('max_depth') == 5 and diccionario.get('n_estimators') == 140]\n",
        "\n",
        "#Como influye max_depth\n",
        "diccionario2 = [diccionario for diccionario in params if diccionario.get('n_estimators') == 140 and diccionario.get('learning_rate') == 0.1]\n",
        "\n",
        "#Como influye n_estimators\n",
        "diccionario3 = [diccionario for diccionario in params if diccionario.get('max_depth') == 5 and diccionario.get('learning_rate') == 0.1]\n",
        "\n",
        "learning_rate_list = [diccionario['learning_rate'] for diccionario in diccionario1]\n",
        "score_list_1  = [diccionario['score'] for diccionario in diccionario1]\n",
        "\n",
        "max_depth_list = [diccionario['max_depth'] for diccionario in diccionario2]\n",
        "score_list_2  = [diccionario['score'] for diccionario in diccionario2]\n",
        "\n",
        "n_estimators_list = [diccionario['n_estimators'] for diccionario in diccionario3]\n",
        "score_list_3  = [diccionario['score'] for diccionario in diccionario3]"
      ]
    },
    {
      "cell_type": "code",
      "execution_count": null,
      "id": "AIFzICJxY9p9",
      "metadata": {
        "colab": {
          "base_uri": "https://localhost:8080/",
          "height": 379
        },
        "id": "AIFzICJxY9p9",
        "outputId": "ee737e65-a8f8-4c3e-e394-4d90672c92ce"
      },
      "outputs": [
        {
          "data": {
            "image/png": "[encoded data removed]",
            "text/plain": [
              "<Figure size 2000x500 with 3 Axes>"
            ]
          },
          "metadata": {},
          "output_type": "display_data"
        }
      ],
      "source": [
        "_= plt.figure(figsize=(20,5))\n",
        "\n",
        "_ = plt.subplot(1,3,1)\n",
        "plt.plot(learning_rate_list, score_list_1, marker='o')\n",
        "plt.xlabel('learning_rate')\n",
        "plt.ylabel('R2')\n",
        "plt.title('R2 vs learning_rate')\n",
        "plt.grid(True)\n",
        "\n",
        "_ = plt.subplot(1,3,2)\n",
        "plt.plot(max_depth_list, score_list_2, marker='o')\n",
        "plt.xlabel('max_depth')\n",
        "plt.ylabel('R2')\n",
        "plt.title('R2 vs max_depth')\n",
        "plt.grid(True)\n",
        "\n",
        "_ = plt.subplot(1,3,3)\n",
        "plt.plot(n_estimators_list, score_list_3, marker='o')\n",
        "plt.xlabel('n_estimators')\n",
        "plt.ylabel('R2')\n",
        "plt.title('R2 vs n_estimators')\n",
        "plt.grid(True)\n",
        "\n",
        "plt.show()"
      ]
    },
    {
      "attachments": {},
      "cell_type": "markdown",
      "id": "qcDzc32vlnLy",
      "metadata": {
        "id": "qcDzc32vlnLy"
      },
      "source": [
        "## Eliminación de outliers"
      ]
    },
    {
      "attachments": {},
      "cell_type": "markdown",
      "id": "aCVTy9KS_ODE",
      "metadata": {
        "id": "aCVTy9KS_ODE"
      },
      "source": [
        "### Creación de modelos para predecir los coches más comunes\n",
        "#### Solo selecciono los que tienen mayor número de unidades a la venta"
      ]
    },
    {
      "cell_type": "code",
      "execution_count": null,
      "id": "yPdHSRO7_Xt_",
      "metadata": {
        "colab": {
          "base_uri": "https://localhost:8080/",
          "height": 488
        },
        "id": "yPdHSRO7_Xt_",
        "outputId": "b8b86576-348d-4980-f2ec-86851a909b77"
      },
      "outputs": [
        {
          "data": {
            "text/html": [
              "\n",
              "  <div id=\"df-c2c75ff0-8f43-4298-9cdc-8a386277dc70\">\n",
              "    <div class=\"colab-df-container\">\n",
              "      <div>\n",
              "<style scoped>\n",
              "    .dataframe tbody tr th:only-of-type {\n",
              "        vertical-align: middle;\n",
              "    }\n",
              "\n",
              "    .dataframe tbody tr th {\n",
              "        vertical-align: top;\n",
              "    }\n",
              "\n",
              "    .dataframe thead th {\n",
              "        text-align: right;\n",
              "    }\n",
              "</style>\n",
              "<table border=\"1\" class=\"dataframe\">\n",
              "  <thead>\n",
              "    <tr style=\"text-align: right;\">\n",
              "      <th></th>\n",
              "      <th>Modelo</th>\n",
              "      <th>Km</th>\n",
              "      <th>Cilindrada</th>\n",
              "      <th>Caballos</th>\n",
              "      <th>Año</th>\n",
              "      <th>Automatico</th>\n",
              "      <th>Puertas</th>\n",
              "      <th>Asientos</th>\n",
              "      <th>Particular</th>\n",
              "      <th>Precio</th>\n",
              "      <th>...</th>\n",
              "      <th>Color_beige</th>\n",
              "      <th>Color_blanco</th>\n",
              "      <th>Color_granate</th>\n",
              "      <th>Color_gris</th>\n",
              "      <th>Color_marron</th>\n",
              "      <th>Color_morado</th>\n",
              "      <th>Color_naranja</th>\n",
              "      <th>Color_negro</th>\n",
              "      <th>Color_rojo</th>\n",
              "      <th>Color_verde</th>\n",
              "    </tr>\n",
              "  </thead>\n",
              "  <tbody>\n",
              "    <tr>\n",
              "      <th>0</th>\n",
              "      <td>1</td>\n",
              "      <td>64707</td>\n",
              "      <td>1496</td>\n",
              "      <td>111</td>\n",
              "      <td>2020</td>\n",
              "      <td>0</td>\n",
              "      <td>5</td>\n",
              "      <td>5</td>\n",
              "      <td>1</td>\n",
              "      <td>15350</td>\n",
              "      <td>...</td>\n",
              "      <td>0</td>\n",
              "      <td>0</td>\n",
              "      <td>0</td>\n",
              "      <td>1</td>\n",
              "      <td>0</td>\n",
              "      <td>0</td>\n",
              "      <td>0</td>\n",
              "      <td>0</td>\n",
              "      <td>0</td>\n",
              "      <td>0</td>\n",
              "    </tr>\n",
              "    <tr>\n",
              "      <th>1</th>\n",
              "      <td>3</td>\n",
              "      <td>15313</td>\n",
              "      <td>1798</td>\n",
              "      <td>122</td>\n",
              "      <td>2022</td>\n",
              "      <td>1</td>\n",
              "      <td>5</td>\n",
              "      <td>5</td>\n",
              "      <td>1</td>\n",
              "      <td>23999</td>\n",
              "      <td>...</td>\n",
              "      <td>0</td>\n",
              "      <td>0</td>\n",
              "      <td>0</td>\n",
              "      <td>0</td>\n",
              "      <td>0</td>\n",
              "      <td>0</td>\n",
              "      <td>0</td>\n",
              "      <td>1</td>\n",
              "      <td>0</td>\n",
              "      <td>0</td>\n",
              "    </tr>\n",
              "    <tr>\n",
              "      <th>2</th>\n",
              "      <td>4</td>\n",
              "      <td>33911</td>\n",
              "      <td>1798</td>\n",
              "      <td>122</td>\n",
              "      <td>2022</td>\n",
              "      <td>1</td>\n",
              "      <td>5</td>\n",
              "      <td>5</td>\n",
              "      <td>1</td>\n",
              "      <td>24999</td>\n",
              "      <td>...</td>\n",
              "      <td>0</td>\n",
              "      <td>0</td>\n",
              "      <td>0</td>\n",
              "      <td>0</td>\n",
              "      <td>1</td>\n",
              "      <td>0</td>\n",
              "      <td>0</td>\n",
              "      <td>0</td>\n",
              "      <td>0</td>\n",
              "      <td>0</td>\n",
              "    </tr>\n",
              "    <tr>\n",
              "      <th>3</th>\n",
              "      <td>1</td>\n",
              "      <td>74468</td>\n",
              "      <td>1497</td>\n",
              "      <td>100</td>\n",
              "      <td>2013</td>\n",
              "      <td>1</td>\n",
              "      <td>5</td>\n",
              "      <td>5</td>\n",
              "      <td>1</td>\n",
              "      <td>10999</td>\n",
              "      <td>...</td>\n",
              "      <td>0</td>\n",
              "      <td>1</td>\n",
              "      <td>0</td>\n",
              "      <td>0</td>\n",
              "      <td>0</td>\n",
              "      <td>0</td>\n",
              "      <td>0</td>\n",
              "      <td>0</td>\n",
              "      <td>0</td>\n",
              "      <td>0</td>\n",
              "    </tr>\n",
              "    <tr>\n",
              "      <th>4</th>\n",
              "      <td>5</td>\n",
              "      <td>115551</td>\n",
              "      <td>1798</td>\n",
              "      <td>136</td>\n",
              "      <td>2017</td>\n",
              "      <td>1</td>\n",
              "      <td>5</td>\n",
              "      <td>5</td>\n",
              "      <td>1</td>\n",
              "      <td>14699</td>\n",
              "      <td>...</td>\n",
              "      <td>0</td>\n",
              "      <td>1</td>\n",
              "      <td>0</td>\n",
              "      <td>0</td>\n",
              "      <td>0</td>\n",
              "      <td>0</td>\n",
              "      <td>0</td>\n",
              "      <td>0</td>\n",
              "      <td>0</td>\n",
              "      <td>0</td>\n",
              "    </tr>\n",
              "    <tr>\n",
              "      <th>...</th>\n",
              "      <td>...</td>\n",
              "      <td>...</td>\n",
              "      <td>...</td>\n",
              "      <td>...</td>\n",
              "      <td>...</td>\n",
              "      <td>...</td>\n",
              "      <td>...</td>\n",
              "      <td>...</td>\n",
              "      <td>...</td>\n",
              "      <td>...</td>\n",
              "      <td>...</td>\n",
              "      <td>...</td>\n",
              "      <td>...</td>\n",
              "      <td>...</td>\n",
              "      <td>...</td>\n",
              "      <td>...</td>\n",
              "      <td>...</td>\n",
              "      <td>...</td>\n",
              "      <td>...</td>\n",
              "      <td>...</td>\n",
              "      <td>...</td>\n",
              "    </tr>\n",
              "    <tr>\n",
              "      <th>4688</th>\n",
              "      <td>3</td>\n",
              "      <td>5</td>\n",
              "      <td>1798</td>\n",
              "      <td>122</td>\n",
              "      <td>2022</td>\n",
              "      <td>1</td>\n",
              "      <td>5</td>\n",
              "      <td>5</td>\n",
              "      <td>1</td>\n",
              "      <td>27490</td>\n",
              "      <td>...</td>\n",
              "      <td>0</td>\n",
              "      <td>0</td>\n",
              "      <td>0</td>\n",
              "      <td>1</td>\n",
              "      <td>0</td>\n",
              "      <td>0</td>\n",
              "      <td>0</td>\n",
              "      <td>0</td>\n",
              "      <td>0</td>\n",
              "      <td>0</td>\n",
              "    </tr>\n",
              "    <tr>\n",
              "      <th>4689</th>\n",
              "      <td>3</td>\n",
              "      <td>245000</td>\n",
              "      <td>1995</td>\n",
              "      <td>116</td>\n",
              "      <td>2004</td>\n",
              "      <td>0</td>\n",
              "      <td>5</td>\n",
              "      <td>5</td>\n",
              "      <td>1</td>\n",
              "      <td>3200</td>\n",
              "      <td>...</td>\n",
              "      <td>0</td>\n",
              "      <td>0</td>\n",
              "      <td>0</td>\n",
              "      <td>0</td>\n",
              "      <td>0</td>\n",
              "      <td>0</td>\n",
              "      <td>0</td>\n",
              "      <td>0</td>\n",
              "      <td>0</td>\n",
              "      <td>0</td>\n",
              "    </tr>\n",
              "    <tr>\n",
              "      <th>4690</th>\n",
              "      <td>1</td>\n",
              "      <td>212000</td>\n",
              "      <td>1329</td>\n",
              "      <td>101</td>\n",
              "      <td>2011</td>\n",
              "      <td>0</td>\n",
              "      <td>5</td>\n",
              "      <td>5</td>\n",
              "      <td>0</td>\n",
              "      <td>6000</td>\n",
              "      <td>...</td>\n",
              "      <td>1</td>\n",
              "      <td>0</td>\n",
              "      <td>0</td>\n",
              "      <td>0</td>\n",
              "      <td>0</td>\n",
              "      <td>0</td>\n",
              "      <td>0</td>\n",
              "      <td>0</td>\n",
              "      <td>0</td>\n",
              "      <td>0</td>\n",
              "    </tr>\n",
              "    <tr>\n",
              "      <th>4691</th>\n",
              "      <td>1</td>\n",
              "      <td>260000</td>\n",
              "      <td>1298</td>\n",
              "      <td>87</td>\n",
              "      <td>2005</td>\n",
              "      <td>0</td>\n",
              "      <td>3</td>\n",
              "      <td>5</td>\n",
              "      <td>0</td>\n",
              "      <td>3000</td>\n",
              "      <td>...</td>\n",
              "      <td>0</td>\n",
              "      <td>0</td>\n",
              "      <td>0</td>\n",
              "      <td>0</td>\n",
              "      <td>0</td>\n",
              "      <td>0</td>\n",
              "      <td>0</td>\n",
              "      <td>1</td>\n",
              "      <td>0</td>\n",
              "      <td>0</td>\n",
              "    </tr>\n",
              "    <tr>\n",
              "      <th>4692</th>\n",
              "      <td>5</td>\n",
              "      <td>150000</td>\n",
              "      <td>1998</td>\n",
              "      <td>124</td>\n",
              "      <td>2013</td>\n",
              "      <td>0</td>\n",
              "      <td>5</td>\n",
              "      <td>5</td>\n",
              "      <td>0</td>\n",
              "      <td>11000</td>\n",
              "      <td>...</td>\n",
              "      <td>0</td>\n",
              "      <td>0</td>\n",
              "      <td>1</td>\n",
              "      <td>0</td>\n",
              "      <td>0</td>\n",
              "      <td>0</td>\n",
              "      <td>0</td>\n",
              "      <td>0</td>\n",
              "      <td>0</td>\n",
              "      <td>0</td>\n",
              "    </tr>\n",
              "  </tbody>\n",
              "</table>\n",
              "<p>4693 rows × 88 columns</p>\n",
              "</div>\n",
              "      <button class=\"colab-df-convert\" onclick=\"convertToInteractive('df-c2c75ff0-8f43-4298-9cdc-8a386277dc70')\"\n",
              "              title=\"Convert this dataframe to an interactive table.\"\n",
              "              style=\"display:none;\">\n",
              "        \n",
              "  <svg xmlns=\"http://www.w3.org/2000/svg\" height=\"24px\"viewBox=\"0 0 24 24\"\n",
              "       width=\"24px\">\n",
              "    <path d=\"M0 0h24v24H0V0z\" fill=\"none\"/>\n",
              "    <path d=\"M18.56 5.44l.94 2.06.94-2.06 2.06-.94-2.06-.94-.94-2.06-.94 2.06-2.06.94zm-11 1L8.5 8.5l.94-2.06 2.06-.94-2.06-.94L8.5 2.5l-.94 2.06-2.06.94zm10 10l.94 2.06.94-2.06 2.06-.94-2.06-.94-.94-2.06-.94 2.06-2.06.94z\"/><path d=\"M17.41 7.96l-1.37-1.37c-.4-.4-.92-.59-1.43-.59-.52 0-1.04.2-1.43.59L10.3 9.45l-7.72 7.72c-.78.78-.78 2.05 0 2.83L4 21.41c.39.39.9.59 1.41.59.51 0 1.02-.2 1.41-.59l7.78-7.78 2.81-2.81c.8-.78.8-2.07 0-2.86zM5.41 20L4 18.59l7.72-7.72 1.47 1.35L5.41 20z\"/>\n",
              "  </svg>\n",
              "      </button>\n",
              "      \n",
              "  <style>\n",
              "    .colab-df-container {\n",
              "      display:flex;\n",
              "      flex-wrap:wrap;\n",
              "      gap: 12px;\n",
              "    }\n",
              "\n",
              "    .colab-df-convert {\n",
              "      background-color: #E8F0FE;\n",
              "      border: none;\n",
              "      border-radius: 50%;\n",
              "      cursor: pointer;\n",
              "      display: none;\n",
              "      fill: #1967D2;\n",
              "      height: 32px;\n",
              "      padding: 0 0 0 0;\n",
              "      width: 32px;\n",
              "    }\n",
              "\n",
              "    .colab-df-convert:hover {\n",
              "      background-color: #E2EBFA;\n",
              "      box-shadow: 0px 1px 2px rgba(60, 64, 67, 0.3), 0px 1px 3px 1px rgba(60, 64, 67, 0.15);\n",
              "      fill: #174EA6;\n",
              "    }\n",
              "\n",
              "    [theme=dark] .colab-df-convert {\n",
              "      background-color: #3B4455;\n",
              "      fill: #D2E3FC;\n",
              "    }\n",
              "\n",
              "    [theme=dark] .colab-df-convert:hover {\n",
              "      background-color: #434B5C;\n",
              "      box-shadow: 0px 1px 3px 1px rgba(0, 0, 0, 0.15);\n",
              "      filter: drop-shadow(0px 1px 2px rgba(0, 0, 0, 0.3));\n",
              "      fill: #FFFFFF;\n",
              "    }\n",
              "  </style>\n",
              "\n",
              "      <script>\n",
              "        const buttonEl =\n",
              "          document.querySelector('#df-c2c75ff0-8f43-4298-9cdc-8a386277dc70 button.colab-df-convert');\n",
              "        buttonEl.style.display =\n",
              "          google.colab.kernel.accessAllowed ? 'block' : 'none';\n",
              "\n",
              "        async function convertToInteractive(key) {\n",
              "          const element = document.querySelector('#df-c2c75ff0-8f43-4298-9cdc-8a386277dc70');\n",
              "          const dataTable =\n",
              "            await google.colab.kernel.invokeFunction('convertToInteractive',\n",
              "                                                     [key], {});\n",
              "          if (!dataTable) return;\n",
              "\n",
              "          const docLinkHtml = 'Like what you see? Visit the ' +\n",
              "            '<a target=\"_blank\" href=https://colab.research.google.com/notebooks/data_table.ipynb>data table notebook</a>'\n",
              "            + ' to learn more about interactive tables.';\n",
              "          element.innerHTML = '';\n",
              "          dataTable['output_type'] = 'display_data';\n",
              "          await google.colab.output.renderOutput(dataTable, element);\n",
              "          const docLink = document.createElement('div');\n",
              "          docLink.innerHTML = docLinkHtml;\n",
              "          element.appendChild(docLink);\n",
              "        }\n",
              "      </script>\n",
              "    </div>\n",
              "  </div>\n",
              "  "
            ],
            "text/plain": [
              "      Modelo      Km  Cilindrada  Caballos   Año  Automatico  Puertas  \\\n",
              "0          1   64707        1496       111  2020           0        5   \n",
              "1          3   15313        1798       122  2022           1        5   \n",
              "2          4   33911        1798       122  2022           1        5   \n",
              "3          1   74468        1497       100  2013           1        5   \n",
              "4          5  115551        1798       136  2017           1        5   \n",
              "...      ...     ...         ...       ...   ...         ...      ...   \n",
              "4688       3       5        1798       122  2022           1        5   \n",
              "4689       3  245000        1995       116  2004           0        5   \n",
              "4690       1  212000        1329       101  2011           0        5   \n",
              "4691       1  260000        1298        87  2005           0        3   \n",
              "4692       5  150000        1998       124  2013           0        5   \n",
              "\n",
              "      Asientos  Particular  Precio  ...  Color_beige  Color_blanco  \\\n",
              "0            5           1   15350  ...            0             0   \n",
              "1            5           1   23999  ...            0             0   \n",
              "2            5           1   24999  ...            0             0   \n",
              "3            5           1   10999  ...            0             1   \n",
              "4            5           1   14699  ...            0             1   \n",
              "...        ...         ...     ...  ...          ...           ...   \n",
              "4688         5           1   27490  ...            0             0   \n",
              "4689         5           1    3200  ...            0             0   \n",
              "4690         5           0    6000  ...            1             0   \n",
              "4691         5           0    3000  ...            0             0   \n",
              "4692         5           0   11000  ...            0             0   \n",
              "\n",
              "      Color_granate  Color_gris  Color_marron  Color_morado  Color_naranja  \\\n",
              "0                 0           1             0             0              0   \n",
              "1                 0           0             0             0              0   \n",
              "2                 0           0             1             0              0   \n",
              "3                 0           0             0             0              0   \n",
              "4                 0           0             0             0              0   \n",
              "...             ...         ...           ...           ...            ...   \n",
              "4688              0           1             0             0              0   \n",
              "4689              0           0             0             0              0   \n",
              "4690              0           0             0             0              0   \n",
              "4691              0           0             0             0              0   \n",
              "4692              1           0             0             0              0   \n",
              "\n",
              "      Color_negro  Color_rojo  Color_verde  \n",
              "0               0           0            0  \n",
              "1               1           0            0  \n",
              "2               0           0            0  \n",
              "3               0           0            0  \n",
              "4               0           0            0  \n",
              "...           ...         ...          ...  \n",
              "4688            0           0            0  \n",
              "4689            0           0            0  \n",
              "4690            0           0            0  \n",
              "4691            1           0            0  \n",
              "4692            0           0            0  \n",
              "\n",
              "[4693 rows x 88 columns]"
            ]
          },
          "execution_count": 49,
          "metadata": {},
          "output_type": "execute_result"
        }
      ],
      "source": [
        "data2 = data.copy(deep=True)\n",
        "data2 = data2[data2['Modelo'].isin([4, 1, 5, 10, 3])]\n",
        "data2 = data2.reset_index(drop=True)\n",
        "data2"
      ]
    },
    {
      "cell_type": "code",
      "execution_count": null,
      "id": "lk6V837xcHCz",
      "metadata": {
        "id": "lk6V837xcHCz"
      },
      "outputs": [],
      "source": [
        "y_train, y_test, train_features, test_features, train_features_2, test_features_2, train_features_3, test_features_3 = preprocess_data(data2)"
      ]
    },
    {
      "cell_type": "code",
      "execution_count": null,
      "id": "TIAXeXdbXNui",
      "metadata": {
        "colab": {
          "base_uri": "https://localhost:8080/"
        },
        "id": "TIAXeXdbXNui",
        "outputId": "5005a76d-560d-4705-c9f4-1e59ee6dc7d6"
      },
      "outputs": [
        {
          "name": "stdout",
          "output_type": "stream",
          "text": [
            "XGBoost - mejores parámetros:  {'learning_rate': 0.1, 'max_depth': 6, 'n_estimators': 140}\n",
            "\n",
            "Resultados:  XGBoost\n",
            "RMSE:  1461.0179\n",
            "r2:  0.9664\n",
            "MAPE:  6.5925 %\n",
            "Tiempo de ejecución:  351.3694\n"
          ]
        }
      ],
      "source": [
        "_ = createModelXGB(y_train, y_test, train_features, test_features)"
      ]
    },
    {
      "cell_type": "code",
      "execution_count": null,
      "id": "h2fRB0AdXvTL",
      "metadata": {
        "colab": {
          "base_uri": "https://localhost:8080/"
        },
        "id": "h2fRB0AdXvTL",
        "outputId": "1d14fa0e-0ba5-453f-c6fa-21599f154790"
      },
      "outputs": [
        {
          "name": "stdout",
          "output_type": "stream",
          "text": [
            "LGBM Regressor:  {'learning_rate': 0.1, 'max_depth': 5, 'num_leaves': 30}\n",
            "\n",
            "Resultados:  LGBM Regressor\n",
            "RMSE:  1534.1539\n",
            "r2:  0.9629\n",
            "MAPE:  7.0099 %\n",
            "Tiempo de ejecución:  16.9751\n"
          ]
        }
      ],
      "source": [
        "_ = createModelLGBM(y_train, y_test, train_features_2, test_features_2)"
      ]
    },
    {
      "cell_type": "code",
      "execution_count": null,
      "id": "fGJYc8j_62pO",
      "metadata": {
        "colab": {
          "base_uri": "https://localhost:8080/"
        },
        "id": "fGJYc8j_62pO",
        "outputId": "91a5aabd-a477-4f43-c0af-6e27b3858a87"
      },
      "outputs": [
        {
          "name": "stdout",
          "output_type": "stream",
          "text": [
            "Random Forest - mejores parámetros:  {'criterion': 'absolute_error', 'max_depth': 14}\n",
            "\n",
            "Resultados:  Random Forest\n",
            "RMSE:  1457.1936\n",
            "r2:  0.9665\n",
            "MAPE:  6.3927 %\n",
            "Tiempo de ejecución:  2388.0113\n"
          ]
        }
      ],
      "source": [
        "_ = createModelRandomForest(y_train, y_test, train_features, test_features)"
      ]
    },
    {
      "attachments": {},
      "cell_type": "markdown",
      "id": "8AVGd9j6BjMu",
      "metadata": {
        "id": "8AVGd9j6BjMu"
      },
      "source": [
        "### Eliminando outliers en general"
      ]
    },
    {
      "cell_type": "code",
      "execution_count": null,
      "id": "kJZ5cojMIKzO",
      "metadata": {
        "colab": {
          "base_uri": "https://localhost:8080/",
          "height": 488
        },
        "id": "kJZ5cojMIKzO",
        "outputId": "079a0501-93b1-4cbd-d853-1d62ebc8a55f"
      },
      "outputs": [
        {
          "data": {
            "text/html": [
              "\n",
              "  <div id=\"df-fb9a9cf6-1f16-4052-be20-042fad33f230\">\n",
              "    <div class=\"colab-df-container\">\n",
              "      <div>\n",
              "<style scoped>\n",
              "    .dataframe tbody tr th:only-of-type {\n",
              "        vertical-align: middle;\n",
              "    }\n",
              "\n",
              "    .dataframe tbody tr th {\n",
              "        vertical-align: top;\n",
              "    }\n",
              "\n",
              "    .dataframe thead th {\n",
              "        text-align: right;\n",
              "    }\n",
              "</style>\n",
              "<table border=\"1\" class=\"dataframe\">\n",
              "  <thead>\n",
              "    <tr style=\"text-align: right;\">\n",
              "      <th></th>\n",
              "      <th>Modelo</th>\n",
              "      <th>Km</th>\n",
              "      <th>Cilindrada</th>\n",
              "      <th>Caballos</th>\n",
              "      <th>Año</th>\n",
              "      <th>Automatico</th>\n",
              "      <th>Puertas</th>\n",
              "      <th>Asientos</th>\n",
              "      <th>Particular</th>\n",
              "      <th>Precio</th>\n",
              "      <th>...</th>\n",
              "      <th>Color_beige</th>\n",
              "      <th>Color_blanco</th>\n",
              "      <th>Color_granate</th>\n",
              "      <th>Color_gris</th>\n",
              "      <th>Color_marron</th>\n",
              "      <th>Color_morado</th>\n",
              "      <th>Color_naranja</th>\n",
              "      <th>Color_negro</th>\n",
              "      <th>Color_rojo</th>\n",
              "      <th>Color_verde</th>\n",
              "    </tr>\n",
              "  </thead>\n",
              "  <tbody>\n",
              "    <tr>\n",
              "      <th>0</th>\n",
              "      <td>1</td>\n",
              "      <td>64707</td>\n",
              "      <td>1496</td>\n",
              "      <td>111</td>\n",
              "      <td>2020</td>\n",
              "      <td>0</td>\n",
              "      <td>5</td>\n",
              "      <td>5</td>\n",
              "      <td>1</td>\n",
              "      <td>15350</td>\n",
              "      <td>...</td>\n",
              "      <td>0</td>\n",
              "      <td>0</td>\n",
              "      <td>0</td>\n",
              "      <td>1</td>\n",
              "      <td>0</td>\n",
              "      <td>0</td>\n",
              "      <td>0</td>\n",
              "      <td>0</td>\n",
              "      <td>0</td>\n",
              "      <td>0</td>\n",
              "    </tr>\n",
              "    <tr>\n",
              "      <th>1</th>\n",
              "      <td>3</td>\n",
              "      <td>15313</td>\n",
              "      <td>1798</td>\n",
              "      <td>122</td>\n",
              "      <td>2022</td>\n",
              "      <td>1</td>\n",
              "      <td>5</td>\n",
              "      <td>5</td>\n",
              "      <td>1</td>\n",
              "      <td>23999</td>\n",
              "      <td>...</td>\n",
              "      <td>0</td>\n",
              "      <td>0</td>\n",
              "      <td>0</td>\n",
              "      <td>0</td>\n",
              "      <td>0</td>\n",
              "      <td>0</td>\n",
              "      <td>0</td>\n",
              "      <td>1</td>\n",
              "      <td>0</td>\n",
              "      <td>0</td>\n",
              "    </tr>\n",
              "    <tr>\n",
              "      <th>2</th>\n",
              "      <td>4</td>\n",
              "      <td>33911</td>\n",
              "      <td>1798</td>\n",
              "      <td>122</td>\n",
              "      <td>2022</td>\n",
              "      <td>1</td>\n",
              "      <td>5</td>\n",
              "      <td>5</td>\n",
              "      <td>1</td>\n",
              "      <td>24999</td>\n",
              "      <td>...</td>\n",
              "      <td>0</td>\n",
              "      <td>0</td>\n",
              "      <td>0</td>\n",
              "      <td>0</td>\n",
              "      <td>1</td>\n",
              "      <td>0</td>\n",
              "      <td>0</td>\n",
              "      <td>0</td>\n",
              "      <td>0</td>\n",
              "      <td>0</td>\n",
              "    </tr>\n",
              "    <tr>\n",
              "      <th>3</th>\n",
              "      <td>1</td>\n",
              "      <td>74468</td>\n",
              "      <td>1497</td>\n",
              "      <td>100</td>\n",
              "      <td>2013</td>\n",
              "      <td>1</td>\n",
              "      <td>5</td>\n",
              "      <td>5</td>\n",
              "      <td>1</td>\n",
              "      <td>10999</td>\n",
              "      <td>...</td>\n",
              "      <td>0</td>\n",
              "      <td>1</td>\n",
              "      <td>0</td>\n",
              "      <td>0</td>\n",
              "      <td>0</td>\n",
              "      <td>0</td>\n",
              "      <td>0</td>\n",
              "      <td>0</td>\n",
              "      <td>0</td>\n",
              "      <td>0</td>\n",
              "    </tr>\n",
              "    <tr>\n",
              "      <th>4</th>\n",
              "      <td>5</td>\n",
              "      <td>115551</td>\n",
              "      <td>1798</td>\n",
              "      <td>136</td>\n",
              "      <td>2017</td>\n",
              "      <td>1</td>\n",
              "      <td>5</td>\n",
              "      <td>5</td>\n",
              "      <td>1</td>\n",
              "      <td>14699</td>\n",
              "      <td>...</td>\n",
              "      <td>0</td>\n",
              "      <td>1</td>\n",
              "      <td>0</td>\n",
              "      <td>0</td>\n",
              "      <td>0</td>\n",
              "      <td>0</td>\n",
              "      <td>0</td>\n",
              "      <td>0</td>\n",
              "      <td>0</td>\n",
              "      <td>0</td>\n",
              "    </tr>\n",
              "    <tr>\n",
              "      <th>...</th>\n",
              "      <td>...</td>\n",
              "      <td>...</td>\n",
              "      <td>...</td>\n",
              "      <td>...</td>\n",
              "      <td>...</td>\n",
              "      <td>...</td>\n",
              "      <td>...</td>\n",
              "      <td>...</td>\n",
              "      <td>...</td>\n",
              "      <td>...</td>\n",
              "      <td>...</td>\n",
              "      <td>...</td>\n",
              "      <td>...</td>\n",
              "      <td>...</td>\n",
              "      <td>...</td>\n",
              "      <td>...</td>\n",
              "      <td>...</td>\n",
              "      <td>...</td>\n",
              "      <td>...</td>\n",
              "      <td>...</td>\n",
              "      <td>...</td>\n",
              "    </tr>\n",
              "    <tr>\n",
              "      <th>4517</th>\n",
              "      <td>3</td>\n",
              "      <td>5</td>\n",
              "      <td>1798</td>\n",
              "      <td>122</td>\n",
              "      <td>2022</td>\n",
              "      <td>1</td>\n",
              "      <td>5</td>\n",
              "      <td>5</td>\n",
              "      <td>1</td>\n",
              "      <td>27490</td>\n",
              "      <td>...</td>\n",
              "      <td>0</td>\n",
              "      <td>0</td>\n",
              "      <td>0</td>\n",
              "      <td>1</td>\n",
              "      <td>0</td>\n",
              "      <td>0</td>\n",
              "      <td>0</td>\n",
              "      <td>0</td>\n",
              "      <td>0</td>\n",
              "      <td>0</td>\n",
              "    </tr>\n",
              "    <tr>\n",
              "      <th>4518</th>\n",
              "      <td>3</td>\n",
              "      <td>245000</td>\n",
              "      <td>1995</td>\n",
              "      <td>116</td>\n",
              "      <td>2004</td>\n",
              "      <td>0</td>\n",
              "      <td>5</td>\n",
              "      <td>5</td>\n",
              "      <td>1</td>\n",
              "      <td>3200</td>\n",
              "      <td>...</td>\n",
              "      <td>0</td>\n",
              "      <td>0</td>\n",
              "      <td>0</td>\n",
              "      <td>0</td>\n",
              "      <td>0</td>\n",
              "      <td>0</td>\n",
              "      <td>0</td>\n",
              "      <td>0</td>\n",
              "      <td>0</td>\n",
              "      <td>0</td>\n",
              "    </tr>\n",
              "    <tr>\n",
              "      <th>4519</th>\n",
              "      <td>1</td>\n",
              "      <td>212000</td>\n",
              "      <td>1329</td>\n",
              "      <td>101</td>\n",
              "      <td>2011</td>\n",
              "      <td>0</td>\n",
              "      <td>5</td>\n",
              "      <td>5</td>\n",
              "      <td>0</td>\n",
              "      <td>6000</td>\n",
              "      <td>...</td>\n",
              "      <td>1</td>\n",
              "      <td>0</td>\n",
              "      <td>0</td>\n",
              "      <td>0</td>\n",
              "      <td>0</td>\n",
              "      <td>0</td>\n",
              "      <td>0</td>\n",
              "      <td>0</td>\n",
              "      <td>0</td>\n",
              "      <td>0</td>\n",
              "    </tr>\n",
              "    <tr>\n",
              "      <th>4520</th>\n",
              "      <td>1</td>\n",
              "      <td>260000</td>\n",
              "      <td>1298</td>\n",
              "      <td>87</td>\n",
              "      <td>2005</td>\n",
              "      <td>0</td>\n",
              "      <td>3</td>\n",
              "      <td>5</td>\n",
              "      <td>0</td>\n",
              "      <td>3000</td>\n",
              "      <td>...</td>\n",
              "      <td>0</td>\n",
              "      <td>0</td>\n",
              "      <td>0</td>\n",
              "      <td>0</td>\n",
              "      <td>0</td>\n",
              "      <td>0</td>\n",
              "      <td>0</td>\n",
              "      <td>1</td>\n",
              "      <td>0</td>\n",
              "      <td>0</td>\n",
              "    </tr>\n",
              "    <tr>\n",
              "      <th>4521</th>\n",
              "      <td>5</td>\n",
              "      <td>150000</td>\n",
              "      <td>1998</td>\n",
              "      <td>124</td>\n",
              "      <td>2013</td>\n",
              "      <td>0</td>\n",
              "      <td>5</td>\n",
              "      <td>5</td>\n",
              "      <td>0</td>\n",
              "      <td>11000</td>\n",
              "      <td>...</td>\n",
              "      <td>0</td>\n",
              "      <td>0</td>\n",
              "      <td>1</td>\n",
              "      <td>0</td>\n",
              "      <td>0</td>\n",
              "      <td>0</td>\n",
              "      <td>0</td>\n",
              "      <td>0</td>\n",
              "      <td>0</td>\n",
              "      <td>0</td>\n",
              "    </tr>\n",
              "  </tbody>\n",
              "</table>\n",
              "<p>4522 rows × 88 columns</p>\n",
              "</div>\n",
              "      <button class=\"colab-df-convert\" onclick=\"convertToInteractive('df-fb9a9cf6-1f16-4052-be20-042fad33f230')\"\n",
              "              title=\"Convert this dataframe to an interactive table.\"\n",
              "              style=\"display:none;\">\n",
              "        \n",
              "  <svg xmlns=\"http://www.w3.org/2000/svg\" height=\"24px\"viewBox=\"0 0 24 24\"\n",
              "       width=\"24px\">\n",
              "    <path d=\"M0 0h24v24H0V0z\" fill=\"none\"/>\n",
              "    <path d=\"M18.56 5.44l.94 2.06.94-2.06 2.06-.94-2.06-.94-.94-2.06-.94 2.06-2.06.94zm-11 1L8.5 8.5l.94-2.06 2.06-.94-2.06-.94L8.5 2.5l-.94 2.06-2.06.94zm10 10l.94 2.06.94-2.06 2.06-.94-2.06-.94-.94-2.06-.94 2.06-2.06.94z\"/><path d=\"M17.41 7.96l-1.37-1.37c-.4-.4-.92-.59-1.43-.59-.52 0-1.04.2-1.43.59L10.3 9.45l-7.72 7.72c-.78.78-.78 2.05 0 2.83L4 21.41c.39.39.9.59 1.41.59.51 0 1.02-.2 1.41-.59l7.78-7.78 2.81-2.81c.8-.78.8-2.07 0-2.86zM5.41 20L4 18.59l7.72-7.72 1.47 1.35L5.41 20z\"/>\n",
              "  </svg>\n",
              "      </button>\n",
              "      \n",
              "  <style>\n",
              "    .colab-df-container {\n",
              "      display:flex;\n",
              "      flex-wrap:wrap;\n",
              "      gap: 12px;\n",
              "    }\n",
              "\n",
              "    .colab-df-convert {\n",
              "      background-color: #E8F0FE;\n",
              "      border: none;\n",
              "      border-radius: 50%;\n",
              "      cursor: pointer;\n",
              "      display: none;\n",
              "      fill: #1967D2;\n",
              "      height: 32px;\n",
              "      padding: 0 0 0 0;\n",
              "      width: 32px;\n",
              "    }\n",
              "\n",
              "    .colab-df-convert:hover {\n",
              "      background-color: #E2EBFA;\n",
              "      box-shadow: 0px 1px 2px rgba(60, 64, 67, 0.3), 0px 1px 3px 1px rgba(60, 64, 67, 0.15);\n",
              "      fill: #174EA6;\n",
              "    }\n",
              "\n",
              "    [theme=dark] .colab-df-convert {\n",
              "      background-color: #3B4455;\n",
              "      fill: #D2E3FC;\n",
              "    }\n",
              "\n",
              "    [theme=dark] .colab-df-convert:hover {\n",
              "      background-color: #434B5C;\n",
              "      box-shadow: 0px 1px 3px 1px rgba(0, 0, 0, 0.15);\n",
              "      filter: drop-shadow(0px 1px 2px rgba(0, 0, 0, 0.3));\n",
              "      fill: #FFFFFF;\n",
              "    }\n",
              "  </style>\n",
              "\n",
              "      <script>\n",
              "        const buttonEl =\n",
              "          document.querySelector('#df-fb9a9cf6-1f16-4052-be20-042fad33f230 button.colab-df-convert');\n",
              "        buttonEl.style.display =\n",
              "          google.colab.kernel.accessAllowed ? 'block' : 'none';\n",
              "\n",
              "        async function convertToInteractive(key) {\n",
              "          const element = document.querySelector('#df-fb9a9cf6-1f16-4052-be20-042fad33f230');\n",
              "          const dataTable =\n",
              "            await google.colab.kernel.invokeFunction('convertToInteractive',\n",
              "                                                     [key], {});\n",
              "          if (!dataTable) return;\n",
              "\n",
              "          const docLinkHtml = 'Like what you see? Visit the ' +\n",
              "            '<a target=\"_blank\" href=https://colab.research.google.com/notebooks/data_table.ipynb>data table notebook</a>'\n",
              "            + ' to learn more about interactive tables.';\n",
              "          element.innerHTML = '';\n",
              "          dataTable['output_type'] = 'display_data';\n",
              "          await google.colab.output.renderOutput(dataTable, element);\n",
              "          const docLink = document.createElement('div');\n",
              "          docLink.innerHTML = docLinkHtml;\n",
              "          element.appendChild(docLink);\n",
              "        }\n",
              "      </script>\n",
              "    </div>\n",
              "  </div>\n",
              "  "
            ],
            "text/plain": [
              "      Modelo      Km  Cilindrada  Caballos   Año  Automatico  Puertas  \\\n",
              "0          1   64707        1496       111  2020           0        5   \n",
              "1          3   15313        1798       122  2022           1        5   \n",
              "2          4   33911        1798       122  2022           1        5   \n",
              "3          1   74468        1497       100  2013           1        5   \n",
              "4          5  115551        1798       136  2017           1        5   \n",
              "...      ...     ...         ...       ...   ...         ...      ...   \n",
              "4517       3       5        1798       122  2022           1        5   \n",
              "4518       3  245000        1995       116  2004           0        5   \n",
              "4519       1  212000        1329       101  2011           0        5   \n",
              "4520       1  260000        1298        87  2005           0        3   \n",
              "4521       5  150000        1998       124  2013           0        5   \n",
              "\n",
              "      Asientos  Particular  Precio  ...  Color_beige  Color_blanco  \\\n",
              "0            5           1   15350  ...            0             0   \n",
              "1            5           1   23999  ...            0             0   \n",
              "2            5           1   24999  ...            0             0   \n",
              "3            5           1   10999  ...            0             1   \n",
              "4            5           1   14699  ...            0             1   \n",
              "...        ...         ...     ...  ...          ...           ...   \n",
              "4517         5           1   27490  ...            0             0   \n",
              "4518         5           1    3200  ...            0             0   \n",
              "4519         5           0    6000  ...            1             0   \n",
              "4520         5           0    3000  ...            0             0   \n",
              "4521         5           0   11000  ...            0             0   \n",
              "\n",
              "      Color_granate  Color_gris  Color_marron  Color_morado  Color_naranja  \\\n",
              "0                 0           1             0             0              0   \n",
              "1                 0           0             0             0              0   \n",
              "2                 0           0             1             0              0   \n",
              "3                 0           0             0             0              0   \n",
              "4                 0           0             0             0              0   \n",
              "...             ...         ...           ...           ...            ...   \n",
              "4517              0           1             0             0              0   \n",
              "4518              0           0             0             0              0   \n",
              "4519              0           0             0             0              0   \n",
              "4520              0           0             0             0              0   \n",
              "4521              1           0             0             0              0   \n",
              "\n",
              "      Color_negro  Color_rojo  Color_verde  \n",
              "0               0           0            0  \n",
              "1               1           0            0  \n",
              "2               0           0            0  \n",
              "3               0           0            0  \n",
              "4               0           0            0  \n",
              "...           ...         ...          ...  \n",
              "4517            0           0            0  \n",
              "4518            0           0            0  \n",
              "4519            0           0            0  \n",
              "4520            1           0            0  \n",
              "4521            0           0            0  \n",
              "\n",
              "[4522 rows x 88 columns]"
            ]
          },
          "execution_count": 55,
          "metadata": {},
          "output_type": "execute_result"
        }
      ],
      "source": [
        "outliers_variables = ['Km', 'Cilindrada', 'Caballos', 'Año']\n",
        "\n",
        "data_outliers = data2.copy(deep=True)\n",
        "\n",
        "for variable in outliers_variables:\n",
        "    mean_var1 = np.mean(data_outliers[variable])\n",
        "    std_var1 = np.std(data_outliers[variable])\n",
        "    lower_bound_var1 = mean_var1 - 3 * std_var1\n",
        "    upper_bound_var1 = mean_var1 + 3 * std_var1\n",
        "    data_outliers = data_outliers[(data_outliers[variable] > lower_bound_var1) & (data_outliers[variable] < upper_bound_var1)]\n",
        "    data_outliers = data_outliers.reset_index(drop=True)\n",
        "\n",
        "data_outliers"
      ]
    },
    {
      "attachments": {},
      "cell_type": "markdown",
      "id": "HQ964HpX-W_M",
      "metadata": {
        "id": "HQ964HpX-W_M"
      },
      "source": [
        "Se decide no seguir con este método debido al gran rango que tienen las variables y a la excesiva pérdida de información\n"
      ]
    }
  ],
  "metadata": {
    "colab": {
      "provenance": []
    },
    "kernelspec": {
      "display_name": "Python 3 (ipykernel)",
      "language": "python",
      "name": "python3"
    },
    "language_info": {
      "codemirror_mode": {
        "name": "ipython",
        "version": 3
      },
      "file_extension": ".py",
      "mimetype": "text/x-python",
      "name": "python",
      "nbconvert_exporter": "python",
      "pygments_lexer": "ipython3",
      "version": "3.9.13"
    }
  },
  "nbformat": 4,
  "nbformat_minor": 5
}
